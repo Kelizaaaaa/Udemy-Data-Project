{
 "cells": [
  {
   "cell_type": "markdown",
   "id": "09d91e9e",
   "metadata": {},
   "source": [
    "# Project: Price Mechanism\n",
    "Objective: build a model to predict the price based on scrapped Udemy data <br> \n",
    "Models: Multiple Linear Regression, Random Forest Regression, Gradient Boosting (XGBoost, LightGBM) <br> \n",
    "Evaluation Metric: Root Mean Squared Error (RSME), Mean Absolute Error (MAE) <br>"
   ]
  },
  {
   "cell_type": "markdown",
   "id": "98c21ca1",
   "metadata": {},
   "source": [
    "## Packages"
   ]
  },
  {
   "cell_type": "code",
   "execution_count": 1,
   "id": "d64d7970",
   "metadata": {},
   "outputs": [],
   "source": [
    "# Data handling\n",
    "import pandas as pd\n",
    "import numpy as np\n",
    "\n",
    "# Preprocessing\n",
    "import category_encoders as ce\n",
    "from sklearn.neighbors import LocalOutlierFactor\n",
    "from sklearn.model_selection import train_test_split\n",
    "\n",
    "# Models\n",
    "import statsmodels.formula.api as smf\n",
    "from sklearn.linear_model import LinearRegression\n",
    "from sklearn.ensemble import RandomForestRegressor\n",
    "from xgboost import XGBRegressor \n",
    "from lightgbm import LGBMRegressor\n",
    "from sklearn.feature_selection import SelectKBest\n",
    "from sklearn.feature_selection import mutual_info_regression\n",
    "from sklearn.feature_selection import f_regression\n",
    "\n",
    "# Metrics\n",
    "from sklearn.metrics import r2_score\n",
    "from sklearn.metrics import mean_squared_error\n",
    "from sklearn.metrics import mean_absolute_error"
   ]
  },
  {
   "cell_type": "markdown",
   "id": "2fbc8e29",
   "metadata": {},
   "source": [
    "## Preprocessing"
   ]
  },
  {
   "cell_type": "code",
   "execution_count": 2,
   "id": "3f09586d",
   "metadata": {
    "scrolled": false
   },
   "outputs": [
    {
     "data": {
      "text/html": [
       "<div>\n",
       "<style scoped>\n",
       "    .dataframe tbody tr th:only-of-type {\n",
       "        vertical-align: middle;\n",
       "    }\n",
       "\n",
       "    .dataframe tbody tr th {\n",
       "        vertical-align: top;\n",
       "    }\n",
       "\n",
       "    .dataframe thead th {\n",
       "        text-align: right;\n",
       "    }\n",
       "</style>\n",
       "<table border=\"1\" class=\"dataframe\">\n",
       "  <thead>\n",
       "    <tr style=\"text-align: right;\">\n",
       "      <th></th>\n",
       "      <th>Overall_Rating</th>\n",
       "      <th>Best_Rating</th>\n",
       "      <th>Worst_Rating</th>\n",
       "      <th>No_of_Ratings</th>\n",
       "      <th>Category</th>\n",
       "      <th>Subcategory</th>\n",
       "      <th>Topic</th>\n",
       "      <th>Instructor</th>\n",
       "      <th>Language</th>\n",
       "      <th>SkillsFuture</th>\n",
       "      <th>No_of_Practice_Test</th>\n",
       "      <th>No_of_Articles</th>\n",
       "      <th>No_of_Coding_Exercises</th>\n",
       "      <th>Video_Duration_Hr</th>\n",
       "      <th>No_of_Additional_Resources</th>\n",
       "      <th>Bestseller</th>\n",
       "      <th>Price</th>\n",
       "      <th>Discounted</th>\n",
       "    </tr>\n",
       "    <tr>\n",
       "      <th>Title</th>\n",
       "      <th></th>\n",
       "      <th></th>\n",
       "      <th></th>\n",
       "      <th></th>\n",
       "      <th></th>\n",
       "      <th></th>\n",
       "      <th></th>\n",
       "      <th></th>\n",
       "      <th></th>\n",
       "      <th></th>\n",
       "      <th></th>\n",
       "      <th></th>\n",
       "      <th></th>\n",
       "      <th></th>\n",
       "      <th></th>\n",
       "      <th></th>\n",
       "      <th></th>\n",
       "      <th></th>\n",
       "    </tr>\n",
       "  </thead>\n",
       "  <tbody>\n",
       "    <tr>\n",
       "      <th>Complete Hypnotherapy &amp; Hypnosis Certification Diploma</th>\n",
       "      <td>4.7</td>\n",
       "      <td>5</td>\n",
       "      <td>0.5</td>\n",
       "      <td>3524</td>\n",
       "      <td>Lifestyle</td>\n",
       "      <td>Esoteric Practices</td>\n",
       "      <td>Hypnotherapy</td>\n",
       "      <td>Dr Karen E Wells</td>\n",
       "      <td>English</td>\n",
       "      <td>False</td>\n",
       "      <td>0</td>\n",
       "      <td>4</td>\n",
       "      <td>0</td>\n",
       "      <td>3.000000</td>\n",
       "      <td>0</td>\n",
       "      <td>Yes</td>\n",
       "      <td>104.98</td>\n",
       "      <td>True</td>\n",
       "    </tr>\n",
       "    <tr>\n",
       "      <th>Pinterest Marketing for Wedding Professionals 2020</th>\n",
       "      <td>5.0</td>\n",
       "      <td>5</td>\n",
       "      <td>0.5</td>\n",
       "      <td>1</td>\n",
       "      <td>Marketing</td>\n",
       "      <td>Social Media Marketing</td>\n",
       "      <td>Pinterest Marketing</td>\n",
       "      <td>Staci Nichols</td>\n",
       "      <td>English</td>\n",
       "      <td>False</td>\n",
       "      <td>0</td>\n",
       "      <td>0</td>\n",
       "      <td>0</td>\n",
       "      <td>0.600000</td>\n",
       "      <td>2</td>\n",
       "      <td>No</td>\n",
       "      <td>29.98</td>\n",
       "      <td>True</td>\n",
       "    </tr>\n",
       "    <tr>\n",
       "      <th>Master the Telephone Sales- Cold calling Secrets</th>\n",
       "      <td>4.5</td>\n",
       "      <td>5</td>\n",
       "      <td>0.5</td>\n",
       "      <td>3</td>\n",
       "      <td>Marketing</td>\n",
       "      <td>Product Marketing</td>\n",
       "      <td>Marketing Strategy</td>\n",
       "      <td>Sanjay Bhasin</td>\n",
       "      <td>English</td>\n",
       "      <td>False</td>\n",
       "      <td>0</td>\n",
       "      <td>0</td>\n",
       "      <td>0</td>\n",
       "      <td>0.733333</td>\n",
       "      <td>0</td>\n",
       "      <td>No</td>\n",
       "      <td>29.98</td>\n",
       "      <td>True</td>\n",
       "    </tr>\n",
       "    <tr>\n",
       "      <th>5 Practical Management concepts you MUST know</th>\n",
       "      <td>5.0</td>\n",
       "      <td>5</td>\n",
       "      <td>0.5</td>\n",
       "      <td>2</td>\n",
       "      <td>Personal Development</td>\n",
       "      <td>Leadership</td>\n",
       "      <td>Management Skills</td>\n",
       "      <td>Vasudev Murthy</td>\n",
       "      <td>English</td>\n",
       "      <td>False</td>\n",
       "      <td>0</td>\n",
       "      <td>0</td>\n",
       "      <td>0</td>\n",
       "      <td>2.000000</td>\n",
       "      <td>0</td>\n",
       "      <td>No</td>\n",
       "      <td>49.98</td>\n",
       "      <td>True</td>\n",
       "    </tr>\n",
       "    <tr>\n",
       "      <th>Fermented Foods Mastery</th>\n",
       "      <td>4.5</td>\n",
       "      <td>5</td>\n",
       "      <td>0.5</td>\n",
       "      <td>187</td>\n",
       "      <td>Health &amp; Fitness</td>\n",
       "      <td>Nutrition</td>\n",
       "      <td>Fermented Foods</td>\n",
       "      <td>Kale Brock</td>\n",
       "      <td>English</td>\n",
       "      <td>False</td>\n",
       "      <td>0</td>\n",
       "      <td>3</td>\n",
       "      <td>0</td>\n",
       "      <td>1.500000</td>\n",
       "      <td>12</td>\n",
       "      <td>No</td>\n",
       "      <td>68.98</td>\n",
       "      <td>True</td>\n",
       "    </tr>\n",
       "  </tbody>\n",
       "</table>\n",
       "</div>"
      ],
      "text/plain": [
       "                                                    Overall_Rating  \\\n",
       "Title                                                                \n",
       "Complete Hypnotherapy & Hypnosis Certification ...             4.7   \n",
       "Pinterest Marketing for Wedding Professionals 2020             5.0   \n",
       "Master the Telephone Sales- Cold calling Secrets               4.5   \n",
       "5 Practical Management concepts you MUST know                  5.0   \n",
       "Fermented Foods Mastery                                        4.5   \n",
       "\n",
       "                                                    Best_Rating  Worst_Rating  \\\n",
       "Title                                                                           \n",
       "Complete Hypnotherapy & Hypnosis Certification ...            5           0.5   \n",
       "Pinterest Marketing for Wedding Professionals 2020            5           0.5   \n",
       "Master the Telephone Sales- Cold calling Secrets              5           0.5   \n",
       "5 Practical Management concepts you MUST know                 5           0.5   \n",
       "Fermented Foods Mastery                                       5           0.5   \n",
       "\n",
       "                                                    No_of_Ratings  \\\n",
       "Title                                                               \n",
       "Complete Hypnotherapy & Hypnosis Certification ...           3524   \n",
       "Pinterest Marketing for Wedding Professionals 2020              1   \n",
       "Master the Telephone Sales- Cold calling Secrets                3   \n",
       "5 Practical Management concepts you MUST know                   2   \n",
       "Fermented Foods Mastery                                       187   \n",
       "\n",
       "                                                                Category  \\\n",
       "Title                                                                      \n",
       "Complete Hypnotherapy & Hypnosis Certification ...             Lifestyle   \n",
       "Pinterest Marketing for Wedding Professionals 2020             Marketing   \n",
       "Master the Telephone Sales- Cold calling Secrets               Marketing   \n",
       "5 Practical Management concepts you MUST know       Personal Development   \n",
       "Fermented Foods Mastery                                 Health & Fitness   \n",
       "\n",
       "                                                               Subcategory  \\\n",
       "Title                                                                        \n",
       "Complete Hypnotherapy & Hypnosis Certification ...      Esoteric Practices   \n",
       "Pinterest Marketing for Wedding Professionals 2020  Social Media Marketing   \n",
       "Master the Telephone Sales- Cold calling Secrets         Product Marketing   \n",
       "5 Practical Management concepts you MUST know                   Leadership   \n",
       "Fermented Foods Mastery                                          Nutrition   \n",
       "\n",
       "                                                                  Topic  \\\n",
       "Title                                                                     \n",
       "Complete Hypnotherapy & Hypnosis Certification ...         Hypnotherapy   \n",
       "Pinterest Marketing for Wedding Professionals 2020  Pinterest Marketing   \n",
       "Master the Telephone Sales- Cold calling Secrets     Marketing Strategy   \n",
       "5 Practical Management concepts you MUST know         Management Skills   \n",
       "Fermented Foods Mastery                                 Fermented Foods   \n",
       "\n",
       "                                                          Instructor Language  \\\n",
       "Title                                                                           \n",
       "Complete Hypnotherapy & Hypnosis Certification ...  Dr Karen E Wells  English   \n",
       "Pinterest Marketing for Wedding Professionals 2020     Staci Nichols  English   \n",
       "Master the Telephone Sales- Cold calling Secrets       Sanjay Bhasin  English   \n",
       "5 Practical Management concepts you MUST know         Vasudev Murthy  English   \n",
       "Fermented Foods Mastery                                   Kale Brock  English   \n",
       "\n",
       "                                                    SkillsFuture  \\\n",
       "Title                                                              \n",
       "Complete Hypnotherapy & Hypnosis Certification ...         False   \n",
       "Pinterest Marketing for Wedding Professionals 2020         False   \n",
       "Master the Telephone Sales- Cold calling Secrets           False   \n",
       "5 Practical Management concepts you MUST know              False   \n",
       "Fermented Foods Mastery                                    False   \n",
       "\n",
       "                                                    No_of_Practice_Test  \\\n",
       "Title                                                                     \n",
       "Complete Hypnotherapy & Hypnosis Certification ...                    0   \n",
       "Pinterest Marketing for Wedding Professionals 2020                    0   \n",
       "Master the Telephone Sales- Cold calling Secrets                      0   \n",
       "5 Practical Management concepts you MUST know                         0   \n",
       "Fermented Foods Mastery                                               0   \n",
       "\n",
       "                                                    No_of_Articles  \\\n",
       "Title                                                                \n",
       "Complete Hypnotherapy & Hypnosis Certification ...               4   \n",
       "Pinterest Marketing for Wedding Professionals 2020               0   \n",
       "Master the Telephone Sales- Cold calling Secrets                 0   \n",
       "5 Practical Management concepts you MUST know                    0   \n",
       "Fermented Foods Mastery                                          3   \n",
       "\n",
       "                                                    No_of_Coding_Exercises  \\\n",
       "Title                                                                        \n",
       "Complete Hypnotherapy & Hypnosis Certification ...                       0   \n",
       "Pinterest Marketing for Wedding Professionals 2020                       0   \n",
       "Master the Telephone Sales- Cold calling Secrets                         0   \n",
       "5 Practical Management concepts you MUST know                            0   \n",
       "Fermented Foods Mastery                                                  0   \n",
       "\n",
       "                                                    Video_Duration_Hr  \\\n",
       "Title                                                                   \n",
       "Complete Hypnotherapy & Hypnosis Certification ...           3.000000   \n",
       "Pinterest Marketing for Wedding Professionals 2020           0.600000   \n",
       "Master the Telephone Sales- Cold calling Secrets             0.733333   \n",
       "5 Practical Management concepts you MUST know                2.000000   \n",
       "Fermented Foods Mastery                                      1.500000   \n",
       "\n",
       "                                                    No_of_Additional_Resources  \\\n",
       "Title                                                                            \n",
       "Complete Hypnotherapy & Hypnosis Certification ...                           0   \n",
       "Pinterest Marketing for Wedding Professionals 2020                           2   \n",
       "Master the Telephone Sales- Cold calling Secrets                             0   \n",
       "5 Practical Management concepts you MUST know                                0   \n",
       "Fermented Foods Mastery                                                     12   \n",
       "\n",
       "                                                   Bestseller   Price  \\\n",
       "Title                                                                   \n",
       "Complete Hypnotherapy & Hypnosis Certification ...        Yes  104.98   \n",
       "Pinterest Marketing for Wedding Professionals 2020         No   29.98   \n",
       "Master the Telephone Sales- Cold calling Secrets           No   29.98   \n",
       "5 Practical Management concepts you MUST know              No   49.98   \n",
       "Fermented Foods Mastery                                    No   68.98   \n",
       "\n",
       "                                                    Discounted  \n",
       "Title                                                           \n",
       "Complete Hypnotherapy & Hypnosis Certification ...        True  \n",
       "Pinterest Marketing for Wedding Professionals 2020        True  \n",
       "Master the Telephone Sales- Cold calling Secrets          True  \n",
       "5 Practical Management concepts you MUST know             True  \n",
       "Fermented Foods Mastery                                   True  "
      ]
     },
     "execution_count": 2,
     "metadata": {},
     "output_type": "execute_result"
    }
   ],
   "source": [
    "# Import data\n",
    "data_clean = pd.read_csv(\"./Data/Udemy_Clean.csv\", index_col=0)\n",
    "\n",
    "# Transform discounted_price variable\n",
    "data_clean[\"Discounted\"] = data_clean[\"Discounted_Price\"] != data_clean[\"Price\"]\n",
    "# Remove unused discounted_price variable\n",
    "data_clean.drop(columns = [\"Discounted_Price\"], inplace=True)\n",
    "data_clean.set_index(\"Title\", inplace=True)\n",
    "# Inspect data\n",
    "data_clean.head()"
   ]
  },
  {
   "cell_type": "markdown",
   "id": "dacdec05",
   "metadata": {},
   "source": [
    "Numeric and categorical variables will be preprocessed separately and then concatenated together afterwards. "
   ]
  },
  {
   "cell_type": "code",
   "execution_count": 3,
   "id": "e4adca6d",
   "metadata": {},
   "outputs": [],
   "source": [
    "# Define response and explanatory variables\n",
    "y = pd.DataFrame(data_clean[\"Price\"])\n",
    "X_raw = data_clean[data_clean.columns.drop('Price')]\n",
    "\n",
    "# Separate numeric and categorical variables for X\n",
    "X_numeric = X_raw.select_dtypes(exclude=[\"object\", \"boolean\"])\n",
    "X_categorical = X_raw.select_dtypes(include=[\"object\", \"boolean\"])"
   ]
  },
  {
   "cell_type": "markdown",
   "id": "349b5b0e",
   "metadata": {},
   "source": [
    "### Categorical Encoding\n",
    "For variable encoding, we will be deploying the binary encoder. This is because this dataset has many categorical variables with high cardinality, hence it would be more suitable for this dataset as it uses fewer features as compaerd to one-hot encoding. "
   ]
  },
  {
   "cell_type": "code",
   "execution_count": 4,
   "id": "9294ce78",
   "metadata": {},
   "outputs": [
    {
     "name": "stderr",
     "output_type": "stream",
     "text": [
      "/Users/kelizaaaaa/opt/anaconda3/lib/python3.8/site-packages/category_encoders/utils.py:21: FutureWarning: is_categorical is deprecated and will be removed in a future version.  Use is_categorical_dtype instead\n",
      "  elif pd.api.types.is_categorical(cols):\n"
     ]
    },
    {
     "data": {
      "text/html": [
       "<div>\n",
       "<style scoped>\n",
       "    .dataframe tbody tr th:only-of-type {\n",
       "        vertical-align: middle;\n",
       "    }\n",
       "\n",
       "    .dataframe tbody tr th {\n",
       "        vertical-align: top;\n",
       "    }\n",
       "\n",
       "    .dataframe thead th {\n",
       "        text-align: right;\n",
       "    }\n",
       "</style>\n",
       "<table border=\"1\" class=\"dataframe\">\n",
       "  <thead>\n",
       "    <tr style=\"text-align: right;\">\n",
       "      <th></th>\n",
       "      <th>Title</th>\n",
       "      <th>Category_0</th>\n",
       "      <th>Category_1</th>\n",
       "      <th>Category_2</th>\n",
       "      <th>Category_3</th>\n",
       "      <th>Category_4</th>\n",
       "      <th>Subcategory_0</th>\n",
       "      <th>Subcategory_1</th>\n",
       "      <th>Subcategory_2</th>\n",
       "      <th>Subcategory_3</th>\n",
       "      <th>...</th>\n",
       "      <th>Instructor_12</th>\n",
       "      <th>Instructor_13</th>\n",
       "      <th>Instructor_14</th>\n",
       "      <th>Language_0</th>\n",
       "      <th>SkillsFuture_0</th>\n",
       "      <th>SkillsFuture_1</th>\n",
       "      <th>Bestseller_0</th>\n",
       "      <th>Bestseller_1</th>\n",
       "      <th>Discounted_0</th>\n",
       "      <th>Discounted_1</th>\n",
       "    </tr>\n",
       "  </thead>\n",
       "  <tbody>\n",
       "    <tr>\n",
       "      <th>0</th>\n",
       "      <td>Complete Hypnotherapy &amp; Hypnosis Certification...</td>\n",
       "      <td>0</td>\n",
       "      <td>0</td>\n",
       "      <td>0</td>\n",
       "      <td>0</td>\n",
       "      <td>1</td>\n",
       "      <td>0</td>\n",
       "      <td>0</td>\n",
       "      <td>0</td>\n",
       "      <td>0</td>\n",
       "      <td>...</td>\n",
       "      <td>0</td>\n",
       "      <td>0</td>\n",
       "      <td>1</td>\n",
       "      <td>1</td>\n",
       "      <td>0</td>\n",
       "      <td>1</td>\n",
       "      <td>0</td>\n",
       "      <td>1</td>\n",
       "      <td>0</td>\n",
       "      <td>1</td>\n",
       "    </tr>\n",
       "    <tr>\n",
       "      <th>1</th>\n",
       "      <td>Pinterest Marketing for Wedding Professionals ...</td>\n",
       "      <td>0</td>\n",
       "      <td>0</td>\n",
       "      <td>0</td>\n",
       "      <td>1</td>\n",
       "      <td>0</td>\n",
       "      <td>0</td>\n",
       "      <td>0</td>\n",
       "      <td>0</td>\n",
       "      <td>0</td>\n",
       "      <td>...</td>\n",
       "      <td>0</td>\n",
       "      <td>1</td>\n",
       "      <td>0</td>\n",
       "      <td>1</td>\n",
       "      <td>0</td>\n",
       "      <td>1</td>\n",
       "      <td>1</td>\n",
       "      <td>0</td>\n",
       "      <td>0</td>\n",
       "      <td>1</td>\n",
       "    </tr>\n",
       "    <tr>\n",
       "      <th>2</th>\n",
       "      <td>Master the Telephone Sales- Cold calling Secrets</td>\n",
       "      <td>0</td>\n",
       "      <td>0</td>\n",
       "      <td>0</td>\n",
       "      <td>1</td>\n",
       "      <td>0</td>\n",
       "      <td>0</td>\n",
       "      <td>0</td>\n",
       "      <td>0</td>\n",
       "      <td>0</td>\n",
       "      <td>...</td>\n",
       "      <td>0</td>\n",
       "      <td>1</td>\n",
       "      <td>1</td>\n",
       "      <td>1</td>\n",
       "      <td>0</td>\n",
       "      <td>1</td>\n",
       "      <td>1</td>\n",
       "      <td>0</td>\n",
       "      <td>0</td>\n",
       "      <td>1</td>\n",
       "    </tr>\n",
       "    <tr>\n",
       "      <th>3</th>\n",
       "      <td>5 Practical Management concepts you MUST know</td>\n",
       "      <td>0</td>\n",
       "      <td>0</td>\n",
       "      <td>0</td>\n",
       "      <td>1</td>\n",
       "      <td>1</td>\n",
       "      <td>0</td>\n",
       "      <td>0</td>\n",
       "      <td>0</td>\n",
       "      <td>0</td>\n",
       "      <td>...</td>\n",
       "      <td>1</td>\n",
       "      <td>0</td>\n",
       "      <td>0</td>\n",
       "      <td>1</td>\n",
       "      <td>0</td>\n",
       "      <td>1</td>\n",
       "      <td>1</td>\n",
       "      <td>0</td>\n",
       "      <td>0</td>\n",
       "      <td>1</td>\n",
       "    </tr>\n",
       "    <tr>\n",
       "      <th>4</th>\n",
       "      <td>Fermented Foods Mastery</td>\n",
       "      <td>0</td>\n",
       "      <td>0</td>\n",
       "      <td>1</td>\n",
       "      <td>0</td>\n",
       "      <td>0</td>\n",
       "      <td>0</td>\n",
       "      <td>0</td>\n",
       "      <td>0</td>\n",
       "      <td>0</td>\n",
       "      <td>...</td>\n",
       "      <td>1</td>\n",
       "      <td>0</td>\n",
       "      <td>1</td>\n",
       "      <td>1</td>\n",
       "      <td>0</td>\n",
       "      <td>1</td>\n",
       "      <td>1</td>\n",
       "      <td>0</td>\n",
       "      <td>0</td>\n",
       "      <td>1</td>\n",
       "    </tr>\n",
       "  </tbody>\n",
       "</table>\n",
       "<p>5 rows × 50 columns</p>\n",
       "</div>"
      ],
      "text/plain": [
       "                                               Title  Category_0  Category_1  \\\n",
       "0  Complete Hypnotherapy & Hypnosis Certification...           0           0   \n",
       "1  Pinterest Marketing for Wedding Professionals ...           0           0   \n",
       "2   Master the Telephone Sales- Cold calling Secrets           0           0   \n",
       "3      5 Practical Management concepts you MUST know           0           0   \n",
       "4                            Fermented Foods Mastery           0           0   \n",
       "\n",
       "   Category_2  Category_3  Category_4  Subcategory_0  Subcategory_1  \\\n",
       "0           0           0           1              0              0   \n",
       "1           0           1           0              0              0   \n",
       "2           0           1           0              0              0   \n",
       "3           0           1           1              0              0   \n",
       "4           1           0           0              0              0   \n",
       "\n",
       "   Subcategory_2  Subcategory_3  ...  Instructor_12  Instructor_13  \\\n",
       "0              0              0  ...              0              0   \n",
       "1              0              0  ...              0              1   \n",
       "2              0              0  ...              0              1   \n",
       "3              0              0  ...              1              0   \n",
       "4              0              0  ...              1              0   \n",
       "\n",
       "   Instructor_14  Language_0  SkillsFuture_0  SkillsFuture_1  Bestseller_0  \\\n",
       "0              1           1               0               1             0   \n",
       "1              0           1               0               1             1   \n",
       "2              1           1               0               1             1   \n",
       "3              0           1               0               1             1   \n",
       "4              1           1               0               1             1   \n",
       "\n",
       "   Bestseller_1  Discounted_0  Discounted_1  \n",
       "0             1             0             1  \n",
       "1             0             0             1  \n",
       "2             0             0             1  \n",
       "3             0             0             1  \n",
       "4             0             0             1  \n",
       "\n",
       "[5 rows x 50 columns]"
      ]
     },
     "execution_count": 4,
     "metadata": {},
     "output_type": "execute_result"
    }
   ],
   "source": [
    "# Create encoder\n",
    "encoder = ce.BinaryEncoder(cols=X_categorical.columns, return_df=True)\n",
    "# Fit and transform data \n",
    "X_categorical_encoded = encoder.fit_transform(X_categorical)\n",
    "X_categorical_encoded.reset_index(inplace=True)\n",
    "X_categorical_encoded.head()"
   ]
  },
  {
   "cell_type": "markdown",
   "id": "b0bbb3c2",
   "metadata": {},
   "source": [
    "### Outliers"
   ]
  },
  {
   "cell_type": "code",
   "execution_count": 5,
   "id": "c59ea091",
   "metadata": {},
   "outputs": [
    {
     "data": {
      "text/plain": [
       "Int64Index([    8,    20,    31,    32,    71,    73,    76,    78,    80,\n",
       "               94,\n",
       "            ...\n",
       "            16255, 16263, 16329, 16339, 16347, 16368, 16390, 16401, 16413,\n",
       "            16427],\n",
       "           dtype='int64', length=1522)"
      ]
     },
     "execution_count": 5,
     "metadata": {},
     "output_type": "execute_result"
    }
   ],
   "source": [
    "# Outlier detection \n",
    "lof = LocalOutlierFactor()\n",
    "yhat = pd.DataFrame(lof.fit_predict(X_numeric), columns=[\"outliers_d\"])\n",
    "outliers_index = yhat[yhat[\"outliers_d\"]==-1].index\n",
    "outliers_index"
   ]
  },
  {
   "cell_type": "code",
   "execution_count": 6,
   "id": "fdbbf267",
   "metadata": {},
   "outputs": [
    {
     "name": "stdout",
     "output_type": "stream",
     "text": [
      "14907\n",
      "14907\n"
     ]
    }
   ],
   "source": [
    "# Combine both numeric and categorical variables back into one dataframe\n",
    "X_numeric.reset_index(inplace=True)\n",
    "X = pd.concat([X_numeric, X_categorical_encoded], axis=1)\n",
    "y.reset_index(inplace=True)\n",
    "\n",
    "# Drop outliers for both X and y\n",
    "X.drop(outliers_index, axis=0, inplace=True)\n",
    "y.drop(outliers_index, axis=0, inplace=True)\n",
    "\n",
    "# Double check that it has been dropped\n",
    "print(len(X))\n",
    "print(len(y))"
   ]
  },
  {
   "cell_type": "code",
   "execution_count": 7,
   "id": "1ee81685",
   "metadata": {},
   "outputs": [],
   "source": [
    "# Reset index as title for both \n",
    "X.set_index(\"Title\", inplace=True)\n",
    "y.set_index(\"Title\", inplace=True)"
   ]
  },
  {
   "cell_type": "markdown",
   "id": "a5cc054a",
   "metadata": {},
   "source": [
    "### Train Test Split\n",
    "Now that we have removed the outliers and prepared the categorical variables, we can split the dataset into the training and validation set for model development and evaluation. "
   ]
  },
  {
   "cell_type": "code",
   "execution_count": 8,
   "id": "0a28f56a",
   "metadata": {},
   "outputs": [],
   "source": [
    "X_train, X_test, y_train, y_test = train_test_split(X, y, test_size=0.2, random_state=0)"
   ]
  },
  {
   "cell_type": "markdown",
   "id": "0b0e8ac9",
   "metadata": {},
   "source": [
    "## Model Development"
   ]
  },
  {
   "cell_type": "markdown",
   "id": "1b38b732",
   "metadata": {},
   "source": [
    "### (1) Multiple Linear Regression Model"
   ]
  },
  {
   "cell_type": "code",
   "execution_count": 9,
   "id": "d90d9e5a",
   "metadata": {
    "scrolled": true
   },
   "outputs": [
    {
     "name": "stdout",
     "output_type": "stream",
     "text": [
      "Score: 0.151\n"
     ]
    }
   ],
   "source": [
    "# Copy training and testing variables\n",
    "X_train_mlr = X_train.copy()\n",
    "X_test_mlr = X_test.copy()\n",
    "y_train_mlr = y_train.copy()\n",
    "y_test_mlr = y_test.copy()\n",
    "\n",
    "# Build model function\n",
    "def mlr_model(X_train, X_test, y_train, y_test): \n",
    "    model = LinearRegression()\n",
    "    model.fit(X_train, y_train)\n",
    "    predictions = model.predict(X_test)\n",
    "    print(\"Score: {0:0.3f}\".format(model.score(X_train, y_train)))\n",
    "    return predictions\n",
    "\n",
    "# First initial model\n",
    "predictions_1 = mlr_model(X_train_mlr, X_test_mlr, y_train_mlr, y_test_mlr)"
   ]
  },
  {
   "cell_type": "markdown",
   "id": "de834171",
   "metadata": {},
   "source": [
    "As the score of the model is undesirable, we can perform feature selection to see if it can improve the fit of the model. "
   ]
  },
  {
   "cell_type": "markdown",
   "id": "15c899ed",
   "metadata": {},
   "source": [
    "#### Feature selection "
   ]
  },
  {
   "cell_type": "code",
   "execution_count": 10,
   "id": "ee028dce",
   "metadata": {},
   "outputs": [
    {
     "name": "stdout",
     "output_type": "stream",
     "text": [
      "Score: 0.137\n"
     ]
    },
    {
     "name": "stderr",
     "output_type": "stream",
     "text": [
      "/Users/kelizaaaaa/opt/anaconda3/lib/python3.8/site-packages/sklearn/utils/validation.py:63: DataConversionWarning: A column-vector y was passed when a 1d array was expected. Please change the shape of y to (n_samples, ), for example using ravel().\n",
      "  return f(*args, **kwargs)\n",
      "/Users/kelizaaaaa/opt/anaconda3/lib/python3.8/site-packages/sklearn/feature_selection/_univariate_selection.py:301: RuntimeWarning: divide by zero encountered in true_divide\n",
      "  corr /= X_norms\n",
      "/Users/kelizaaaaa/opt/anaconda3/lib/python3.8/site-packages/sklearn/feature_selection/_univariate_selection.py:301: RuntimeWarning: invalid value encountered in true_divide\n",
      "  corr /= X_norms\n",
      "/Users/kelizaaaaa/opt/anaconda3/lib/python3.8/site-packages/sklearn/feature_selection/_univariate_selection.py:306: RuntimeWarning: invalid value encountered in true_divide\n",
      "  F = corr ** 2 / (1 - corr ** 2) * degrees_of_freedom\n"
     ]
    }
   ],
   "source": [
    "# Configure to select features based on correlation\n",
    "fs_1 = SelectKBest(score_func=f_regression, k=15)\n",
    "fs_1.fit(X_train_mlr, y_train_mlr)\n",
    "X_train_fs1 = fs_1.transform(X_train_mlr)\n",
    "X_test_fs1 = fs_1.transform(X_test_mlr)\n",
    "\n",
    "predictions_2 = mlr_model(X_train_fs1, X_test_fs1, y_train_mlr, y_test_mlr)"
   ]
  },
  {
   "cell_type": "code",
   "execution_count": 11,
   "id": "8309e107",
   "metadata": {},
   "outputs": [
    {
     "name": "stderr",
     "output_type": "stream",
     "text": [
      "/Users/kelizaaaaa/opt/anaconda3/lib/python3.8/site-packages/sklearn/utils/validation.py:63: DataConversionWarning: A column-vector y was passed when a 1d array was expected. Please change the shape of y to (n_samples, ), for example using ravel().\n",
      "  return f(*args, **kwargs)\n"
     ]
    },
    {
     "name": "stdout",
     "output_type": "stream",
     "text": [
      "Score: 0.130\n"
     ]
    }
   ],
   "source": [
    "# Configure to select features based on correlation\n",
    "fs_1 = SelectKBest(score_func=mutual_info_regression, k=15)\n",
    "fs_1.fit(X_train_mlr, y_train_mlr)\n",
    "X_train_fs1 = fs_1.transform(X_train_mlr)\n",
    "X_test_fs1 = fs_1.transform(X_test_mlr)\n",
    "\n",
    "predictions_3 = mlr_model(X_train_fs1, X_test_fs1, y_train_mlr, y_test_mlr)"
   ]
  },
  {
   "cell_type": "markdown",
   "id": "4bf86484",
   "metadata": {},
   "source": [
    "It appears that the best multiple linear regression model would be the original model without feature selection"
   ]
  },
  {
   "cell_type": "code",
   "execution_count": 31,
   "id": "abc5f5bc",
   "metadata": {},
   "outputs": [],
   "source": [
    "# Final model \n",
    "mlr_model = LinearRegression()\n",
    "mlr_model.fit(X_train_mlr, y_train_mlr)\n",
    "mlr_predictions = mlr_model.predict(X_test_mlr)"
   ]
  },
  {
   "cell_type": "markdown",
   "id": "4a3100af",
   "metadata": {},
   "source": [
    "### (2) Random Forest Regression"
   ]
  },
  {
   "cell_type": "code",
   "execution_count": 32,
   "id": "8fcad5a0",
   "metadata": {},
   "outputs": [
    {
     "name": "stderr",
     "output_type": "stream",
     "text": [
      "<ipython-input-32-834e297b7d32>:9: DataConversionWarning: A column-vector y was passed when a 1d array was expected. Please change the shape of y to (n_samples,), for example using ravel().\n",
      "  model_rfr1.fit(X_train_rfr, y_train_rfr)\n"
     ]
    },
    {
     "name": "stdout",
     "output_type": "stream",
     "text": [
      "MAE: 31.361\n"
     ]
    }
   ],
   "source": [
    "# Copying training and testing data \n",
    "X_train_rfr = X_train.copy()\n",
    "X_test_rfr = X_test.copy()\n",
    "y_train_rfr = y_train.copy()\n",
    "y_test_rfr = y_test.copy()\n",
    "\n",
    "# Initial model \n",
    "model_rfr1 = RandomForestRegressor(random_state=0)\n",
    "model_rfr1.fit(X_train_rfr, y_train_rfr.values.ravel())\n",
    "predictions_rfr1 = model_rfr1.predict(X_test_rfr)\n",
    "mae_rfr1 = mean_absolute_error(y_test_rfr, predictions_rfr1)\n",
    "print(\"MAE: {0:0.3f}\".format(mae_rfr1))"
   ]
  },
  {
   "cell_type": "code",
   "execution_count": 34,
   "id": "4a3b8af0",
   "metadata": {},
   "outputs": [
    {
     "name": "stdout",
     "output_type": "stream",
     "text": [
      "n_estimators: 100, MAE: 31.361\n",
      "n_estimators: 200, MAE: 31.300\n",
      "n_estimators: 300, MAE: 31.252\n",
      "n_estimators: 400, MAE: 31.218\n",
      "n_estimators: 500, MAE: 31.249\n",
      "n_estimators: 600, MAE: 31.236\n",
      "n_estimators: 700, MAE: 31.242\n",
      "n_estimators: 800, MAE: 31.234\n",
      "n_estimators: 900, MAE: 31.237\n",
      "n_estimators: 1000, MAE: 31.245\n"
     ]
    }
   ],
   "source": [
    "# First model improvement \n",
    "for n in range(100, 1100, 100):\n",
    "    model_rfr2 = RandomForestRegressor(n_estimators=n, random_state=0)\n",
    "    model_rfr2.fit(X_train_rfr, y_train_rfr.values.ravel())\n",
    "    predictions_rfr2 = model_rfr2.predict(X_test_rfr)\n",
    "    mae_rfr2 = mean_absolute_error(y_test_rfr, predictions_rfr2)\n",
    "    print(\"n_estimators: {0}, MAE: {1:0.3f}\".format(n, mae_rfr2))"
   ]
  },
  {
   "cell_type": "markdown",
   "id": "b7973328",
   "metadata": {},
   "source": [
    "Optimal n_estimators = 400. "
   ]
  },
  {
   "cell_type": "code",
   "execution_count": 37,
   "id": "658e10bb",
   "metadata": {},
   "outputs": [
    {
     "name": "stdout",
     "output_type": "stream",
     "text": [
      "max_depth: 10, MAE: 31.726\n",
      "max_depth: 20, MAE: 31.210\n",
      "max_depth: 30, MAE: 31.219\n",
      "max_depth: 40, MAE: 31.218\n",
      "max_depth: 50, MAE: 31.218\n"
     ]
    }
   ],
   "source": [
    "# Second model improvement\n",
    "for max_depth in range(10, 60, 10): \n",
    "    model_rfr3 = RandomForestRegressor(n_estimators=400, max_depth=max_depth, random_state=0)\n",
    "    model_rfr3.fit(X_train_rfr, y_train_rfr.values.ravel())\n",
    "    predictions_rfr3 = model_rfr3.predict(X_test_rfr)\n",
    "    mae_rfr3 = mean_absolute_error(y_test_rfr, predictions_rfr3)\n",
    "    print(\"max_depth: {0}, MAE: {1:0.3f}\".format(max_depth, mae_rfr3))"
   ]
  },
  {
   "cell_type": "markdown",
   "id": "ead39662",
   "metadata": {},
   "source": [
    "Optimal max_depth = 20"
   ]
  },
  {
   "cell_type": "code",
   "execution_count": 46,
   "id": "79d4b165",
   "metadata": {},
   "outputs": [
    {
     "name": "stdout",
     "output_type": "stream",
     "text": [
      "min_samples_leaf: 1, MAE: 31.210\n",
      "min_samples_leaf: 2, MAE: 31.163\n",
      "min_samples_leaf: 3, MAE: 31.177\n",
      "min_samples_leaf: 4, MAE: 31.216\n",
      "min_samples_leaf: 5, MAE: 31.297\n"
     ]
    }
   ],
   "source": [
    "# 3rd model improvement\n",
    "for min_samples_leaf in range(1, 6, 1): \n",
    "    model_rfr4 = RandomForestRegressor(n_estimators=400, max_depth=20, random_state=0, \n",
    "                                       min_samples_leaf=min_samples_leaf)\n",
    "    model_rfr4.fit(X_train_rfr, y_train_rfr.values.ravel())\n",
    "    predictions_rfr4 = model_rfr4.predict(X_test_rfr)\n",
    "    mae_rfr4 = mean_absolute_error(y_test_rfr, predictions_rfr4)\n",
    "    print(\"min_samples_leaf: {0}, MAE: {1:0.3f}\".format(min_samples_leaf, mae_rfr4))"
   ]
  },
  {
   "cell_type": "markdown",
   "id": "45ff02be",
   "metadata": {},
   "source": [
    "Optimal min_samples_leaf = 2"
   ]
  },
  {
   "cell_type": "code",
   "execution_count": 48,
   "id": "8396c1ac",
   "metadata": {},
   "outputs": [
    {
     "name": "stdout",
     "output_type": "stream",
     "text": [
      "max_leaf_nodes: 1000, MAE: 31.032\n",
      "max_leaf_nodes: 1100, MAE: 31.024\n",
      "max_leaf_nodes: 1200, MAE: 31.027\n",
      "max_leaf_nodes: 1300, MAE: 31.032\n",
      "max_leaf_nodes: 1400, MAE: 31.037\n",
      "max_leaf_nodes: 1500, MAE: 31.050\n"
     ]
    }
   ],
   "source": [
    "# 4th model improvement\n",
    "for max_leaf_nodes in range(1000,1600,100): \n",
    "    model_rfr5 = RandomForestRegressor(n_estimators=400, max_depth=20, min_samples_leaf=2, \n",
    "                                      max_leaf_nodes=max_leaf_nodes, random_state=0)\n",
    "    model_rfr5.fit(X_train_rfr, y_train_rfr.values.ravel())\n",
    "    predictions_rfr5 = model_rfr5.predict(X_test_rfr)\n",
    "    mae_rfr5 = mean_absolute_error(y_test_rfr, predictions_rfr5)\n",
    "    print(\"max_leaf_nodes: {0}, MAE: {1:0.3f}\".format(max_leaf_nodes, mae_rfr5))"
   ]
  },
  {
   "cell_type": "markdown",
   "id": "8f4d8bd1",
   "metadata": {},
   "source": [
    "Optimal max_leaf_nodes = 1100"
   ]
  },
  {
   "cell_type": "code",
   "execution_count": 49,
   "id": "d3a02419",
   "metadata": {},
   "outputs": [],
   "source": [
    "# Final model \n",
    "rfr_model = RandomForestRegressor(n_estimators=400, max_depth=20, min_samples_leaf=2, \n",
    "                                 max_leaf_nodes=1100, random_state=0)\n",
    "rfr_model.fit(X_train_rfr, y_train_rfr.values.ravel())\n",
    "rfr_predictions = rfr_model.predict(X_test_rfr)"
   ]
  },
  {
   "cell_type": "markdown",
   "id": "5e3080f0",
   "metadata": {},
   "source": [
    "### (3) Gradient Boosting Model (XGBoost)"
   ]
  },
  {
   "cell_type": "code",
   "execution_count": 53,
   "id": "bf0f6613",
   "metadata": {},
   "outputs": [
    {
     "name": "stdout",
     "output_type": "stream",
     "text": [
      "MAE: 31.015\n"
     ]
    }
   ],
   "source": [
    "# Copying training and testing data \n",
    "X_train_xgb = X_train.copy()\n",
    "X_test_xgb = X_test.copy()\n",
    "y_train_xgb = y_train.copy()\n",
    "y_test_xgb = y_test.copy()\n",
    "\n",
    "# Inital model \n",
    "model_xgb = XGBRegressor(random_state=0)\n",
    "model_xgb.fit(X_train_xgb, y_train_xgb)\n",
    "predictions_xgb = model_xgb.predict(X_test_xgb)\n",
    "mae_xgb = mean_absolute_error(y_test_xgb, predictions_xgb)\n",
    "print(\"MAE: {0:0.3f}\".format(mae_xgb))"
   ]
  },
  {
   "cell_type": "code",
   "execution_count": 57,
   "id": "49ebf3c0",
   "metadata": {},
   "outputs": [
    {
     "name": "stdout",
     "output_type": "stream",
     "text": [
      "n_estimators: 100, MAE: 31.015\n",
      "n_estimators: 101, MAE: 31.012\n",
      "n_estimators: 102, MAE: 30.946\n",
      "n_estimators: 103, MAE: 30.947\n",
      "n_estimators: 104, MAE: 30.899\n",
      "n_estimators: 105, MAE: 30.910\n",
      "n_estimators: 106, MAE: 30.887\n",
      "n_estimators: 107, MAE: 30.872\n",
      "n_estimators: 108, MAE: 30.857\n",
      "n_estimators: 109, MAE: 30.867\n",
      "n_estimators: 110, MAE: 30.872\n"
     ]
    }
   ],
   "source": [
    "# 1st model improvement\n",
    "for n in range(100, 111, 1):\n",
    "    model_xgb1 = XGBRegressor(n_estimators=n, random_state=0)\n",
    "    model_xgb1.fit(X_train_xgb, y_train_xgb)\n",
    "    predictions_xgb1 = model_xgb1.predict(X_test_xgb)\n",
    "    mae_xgb1 = mean_absolute_error(y_test_xgb, predictions_xgb1)\n",
    "    print(\"n_estimators: {0}, MAE: {1:0.3f}\".format(n, mae_xgb1))"
   ]
  },
  {
   "cell_type": "markdown",
   "id": "5454fb1e",
   "metadata": {},
   "source": [
    "Optimal n_estimators = 108."
   ]
  },
  {
   "cell_type": "code",
   "execution_count": 60,
   "id": "4f2cb946",
   "metadata": {},
   "outputs": [
    {
     "name": "stdout",
     "output_type": "stream",
     "text": [
      "learning_rate: 0.2, MAE: 30.842\n",
      "learning_rate: 0.21, MAE: 30.843\n",
      "learning_rate: 0.22, MAE: 31.183\n",
      "learning_rate: 0.23, MAE: 30.530\n",
      "learning_rate: 0.24, MAE: 30.834\n",
      "learning_rate: 0.25, MAE: 30.678\n",
      "learning_rate: 0.26, MAE: 31.070\n",
      "learning_rate: 0.27, MAE: 30.901\n",
      "learning_rate: 0.28, MAE: 30.801\n",
      "learning_rate: 0.29, MAE: 30.819\n",
      "learning_rate: 0.3, MAE: 30.857\n"
     ]
    }
   ],
   "source": [
    "# 2nd model improvement \n",
    "for learning_rate in range(20, 31, 1): \n",
    "    learning_rate = learning_rate / 100\n",
    "    model_xgb2 = XGBRegressor(n_estimators=108, learning_rate=learning_rate, random_state=0)\n",
    "    model_xgb2.fit(X_train_xgb, y_train_xgb)\n",
    "    predictions_xgb2 = model_xgb2.predict(X_test_xgb)\n",
    "    mae_xgb2 = mean_absolute_error(y_test_xgb, predictions_xgb2)\n",
    "    print(\"learning_rate: {0}, MAE: {1:0.3f}\".format(learning_rate, mae_xgb2))"
   ]
  },
  {
   "cell_type": "markdown",
   "id": "8c50df43",
   "metadata": {},
   "source": [
    "Optimal learning_rate = 0.23"
   ]
  },
  {
   "cell_type": "code",
   "execution_count": 62,
   "id": "c8c50d84",
   "metadata": {},
   "outputs": [
    {
     "name": "stdout",
     "output_type": "stream",
     "text": [
      "max_depth: 1, MAE: 33.066\n",
      "max_depth: 2, MAE: 32.368\n",
      "max_depth: 3, MAE: 32.041\n",
      "max_depth: 4, MAE: 31.554\n",
      "max_depth: 5, MAE: 31.173\n",
      "max_depth: 6, MAE: 30.530\n",
      "max_depth: 7, MAE: 30.417\n",
      "max_depth: 8, MAE: 30.691\n",
      "max_depth: 9, MAE: 30.426\n",
      "max_depth: 10, MAE: 30.965\n"
     ]
    }
   ],
   "source": [
    "# 3rd model improvement\n",
    "for max_depth in range(1, 11, 1): \n",
    "    model_xgb3 = XGBRegressor(n_estimators=108, learning_rate=0.23, max_depth=max_depth, random_state=0)\n",
    "    model_xgb3.fit(X_train_xgb, y_train_xgb)\n",
    "    predictions_xgb3 = model_xgb3.predict(X_test_xgb)\n",
    "    mae_xgb3 = mean_absolute_error(y_test_xgb, predictions_xgb3)\n",
    "    print(\"max_depth: {0}, MAE: {1:0.3f}\".format(max_depth, mae_xgb3))"
   ]
  },
  {
   "cell_type": "markdown",
   "id": "20d2dfa2",
   "metadata": {},
   "source": [
    "Optimal max_depth = 7"
   ]
  },
  {
   "cell_type": "code",
   "execution_count": 74,
   "id": "00d932dd",
   "metadata": {},
   "outputs": [
    {
     "name": "stdout",
     "output_type": "stream",
     "text": [
      "min_child_weight: 10, MAE: 30.407\n",
      "min_child_weight: 11, MAE: 30.513\n",
      "min_child_weight: 12, MAE: 30.812\n",
      "min_child_weight: 13, MAE: 30.624\n",
      "min_child_weight: 14, MAE: 30.427\n",
      "min_child_weight: 15, MAE: 30.613\n",
      "min_child_weight: 16, MAE: 30.723\n",
      "min_child_weight: 17, MAE: 30.400\n",
      "min_child_weight: 18, MAE: 30.647\n",
      "min_child_weight: 19, MAE: 30.597\n",
      "min_child_weight: 20, MAE: 30.842\n"
     ]
    }
   ],
   "source": [
    "# 4th model improvement\n",
    "for min_child_weight in range(10, 21, 1): \n",
    "    model_xgb4 = XGBRegressor(n_estimators=108, learning_rate=0.23, max_depth=7, min_child_weight=min_child_weight, \n",
    "                              random_state=0)\n",
    "    model_xgb4.fit(X_train_xgb, y_train_xgb)\n",
    "    predictions_xgb4 = model_xgb4.predict(X_test_xgb)\n",
    "    mae_xgb4 = mean_absolute_error(y_test_xgb, predictions_xgb4)\n",
    "    print(\"min_child_weight: {0}, MAE: {1:0.3f}\".format(min_child_weight, mae_xgb4))"
   ]
  },
  {
   "cell_type": "markdown",
   "id": "75bc9fc4",
   "metadata": {},
   "source": [
    "Optimal min_child_weight = 17"
   ]
  },
  {
   "cell_type": "code",
   "execution_count": 71,
   "id": "2f7c4371",
   "metadata": {},
   "outputs": [
    {
     "name": "stdout",
     "output_type": "stream",
     "text": [
      "Alpha: 0.1, MAE: 30.679\n",
      "Alpha: 0.2, MAE: 30.646\n",
      "Alpha: 0.3, MAE: 30.923\n",
      "Alpha: 0.4, MAE: 30.809\n",
      "Alpha: 0.5, MAE: 30.954\n",
      "Alpha: 0.6, MAE: 30.559\n",
      "Alpha: 0.7, MAE: 30.365\n",
      "Alpha: 0.8, MAE: 30.338\n",
      "Alpha: 0.9, MAE: 30.430\n",
      "Alpha: 1.0, MAE: 30.471\n"
     ]
    }
   ],
   "source": [
    "# 5th model improvement \n",
    "for alpha in range(1, 11, 1): \n",
    "    alpha = alpha / 10\n",
    "    model_xgb5 = XGBRegressor(n_estimators=108, learning_rate=0.23, max_depth=7, min_child_weight=17, \n",
    "                             reg_alpha=alpha, random_state=0)\n",
    "    model_xgb5.fit(X_train_xgb, y_train_xgb)\n",
    "    predictions_xgb5 = model_xgb5.predict(X_test_xgb)\n",
    "    mae_xgb5 = mean_absolute_error(y_test_xgb, predictions_xgb5)\n",
    "    print(\"Alpha: {0}, MAE: {1:0.3f}\".format(alpha, mae_xgb5))"
   ]
  },
  {
   "cell_type": "markdown",
   "id": "9e78997b",
   "metadata": {},
   "source": [
    "Optimal alpha = 0.8"
   ]
  },
  {
   "cell_type": "code",
   "execution_count": 72,
   "id": "38013172",
   "metadata": {},
   "outputs": [
    {
     "name": "stdout",
     "output_type": "stream",
     "text": [
      "Lambda: 0.1, MAE: 30.404\n",
      "Lambda: 0.2, MAE: 30.770\n",
      "Lambda: 0.3, MAE: 30.355\n",
      "Lambda: 0.4, MAE: 30.912\n",
      "Lambda: 0.5, MAE: 30.822\n",
      "Lambda: 0.6, MAE: 30.515\n",
      "Lambda: 0.7, MAE: 30.718\n",
      "Lambda: 0.8, MAE: 30.714\n",
      "Lambda: 0.9, MAE: 30.704\n",
      "Lambda: 1.0, MAE: 30.338\n"
     ]
    }
   ],
   "source": [
    "# 6th model improvement \n",
    "for lambd in range(1, 11, 1): \n",
    "    lambd = lambd / 10\n",
    "    model_xgb6 = XGBRegressor(n_estimators=108, learning_rate=0.23, max_depth=7, min_child_weight=17, \n",
    "                              reg_alpha=0.8, reg_lambda=lambd, random_state=0)\n",
    "    model_xgb6.fit(X_train_xgb, y_train_xgb)\n",
    "    predictions_xgb6 = model_xgb6.predict(X_test_xgb)\n",
    "    mae_xgb6 = mean_absolute_error(y_test_xgb, predictions_xgb6)\n",
    "    print(\"Lambda: {0}, MAE: {1:0.3f}\".format(lambd, mae_xgb6))"
   ]
  },
  {
   "cell_type": "code",
   "execution_count": 73,
   "id": "2cad95ec",
   "metadata": {},
   "outputs": [],
   "source": [
    "# Final model \n",
    "xgb_model = XGBRegressor(n_estimators=108, learning_rate=0.23, max_depth=7, min_child_weight=17, \n",
    "                        reg_alpha=0.8, random_state=0)\n",
    "xgb_model.fit(X_train_xgb, y_train_xgb)\n",
    "xgb_predictions = xgb_model.predict(X_test_xgb)"
   ]
  },
  {
   "cell_type": "markdown",
   "id": "b087d19b",
   "metadata": {},
   "source": [
    "### (4) Gradient Boosting Model (LightGBM)"
   ]
  },
  {
   "cell_type": "code",
   "execution_count": 77,
   "id": "38fd08bc",
   "metadata": {},
   "outputs": [
    {
     "name": "stdout",
     "output_type": "stream",
     "text": [
      "MAE: 31.237\n"
     ]
    }
   ],
   "source": [
    "# Copying training and testing data\n",
    "X_train_lgbm = X_train.copy()\n",
    "X_test_lgbm = X_test.copy()\n",
    "y_train_lgbm = y_train.copy()\n",
    "y_test_lgbm = y_test.copy()\n",
    "\n",
    "# Initial model\n",
    "model_lgbm = LGBMRegressor(random_state=0)\n",
    "model_lgbm.fit(X_train_lgbm, y_train_lgbm)\n",
    "predictions_lgbm = model_lgbm.predict(X_test_lgbm)\n",
    "mae_lgbm = mean_absolute_error(y_test_lgbm, predictions_lgbm)\n",
    "print(\"MAE: {0:0.3f}\".format(mae_lgbm))"
   ]
  },
  {
   "cell_type": "code",
   "execution_count": 80,
   "id": "9e1af07e",
   "metadata": {},
   "outputs": [
    {
     "name": "stdout",
     "output_type": "stream",
     "text": [
      "n_estimators: 1000, MAE: 29.988\n",
      "n_estimators: 1100, MAE: 29.949\n",
      "n_estimators: 1200, MAE: 29.941\n",
      "n_estimators: 1300, MAE: 29.916\n",
      "n_estimators: 1400, MAE: 29.886\n",
      "n_estimators: 1500, MAE: 29.875\n",
      "n_estimators: 1600, MAE: 29.878\n",
      "n_estimators: 1700, MAE: 29.889\n",
      "n_estimators: 1800, MAE: 29.898\n",
      "n_estimators: 1900, MAE: 29.897\n",
      "n_estimators: 2000, MAE: 29.918\n"
     ]
    }
   ],
   "source": [
    "# 1st model improvement\n",
    "for n in range(1000, 2100, 100):\n",
    "    model_lgbm1 = LGBMRegressor(n_estimators=n, random_state=0)\n",
    "    model_lgbm1.fit(X_train_lgbm, y_train_lgbm)\n",
    "    predictions_lgbm1 = model_lgbm1.predict(X_test_lgbm)\n",
    "    mae_lgbm1 = mean_absolute_error(y_test_lgbm, predictions_lgbm1)\n",
    "    print(\"n_estimators: {0}, MAE: {1:0.3f}\".format(n, mae_lgbm1))"
   ]
  },
  {
   "cell_type": "markdown",
   "id": "60437b83",
   "metadata": {},
   "source": [
    "Optimal n_estimators = 1500"
   ]
  },
  {
   "cell_type": "code",
   "execution_count": 82,
   "id": "23610a09",
   "metadata": {},
   "outputs": [
    {
     "name": "stdout",
     "output_type": "stream",
     "text": [
      "max_depth: 1, MAE: 32.883\n",
      "max_depth: 2, MAE: 32.261\n",
      "max_depth: 3, MAE: 31.599\n",
      "max_depth: 4, MAE: 31.055\n",
      "max_depth: 5, MAE: 30.456\n",
      "max_depth: 6, MAE: 30.281\n",
      "max_depth: 7, MAE: 29.873\n",
      "max_depth: 8, MAE: 29.737\n",
      "max_depth: 9, MAE: 29.748\n",
      "max_depth: 10, MAE: 29.945\n"
     ]
    }
   ],
   "source": [
    "# 2nd model improvement\n",
    "for max_depth in range(1, 11, 1): \n",
    "    model_lgbm2 = LGBMRegressor(n_estimators=1500, max_depth=max_depth, random_state=0)\n",
    "    model_lgbm2.fit(X_train_lgbm, y_train_lgbm)\n",
    "    predictions_lgbm2 = model_lgbm2.predict(X_test_lgbm)\n",
    "    mae_lgbm2 = mean_absolute_error(y_test_lgbm, predictions_lgbm2)\n",
    "    print(\"max_depth: {0}, MAE: {1:0.3f}\".format(max_depth, mae_lgbm2))"
   ]
  },
  {
   "cell_type": "markdown",
   "id": "adf9078f",
   "metadata": {},
   "source": [
    "Optimal max_depth = 8"
   ]
  },
  {
   "cell_type": "code",
   "execution_count": 85,
   "id": "12a75325",
   "metadata": {},
   "outputs": [
    {
     "name": "stdout",
     "output_type": "stream",
     "text": [
      "learning_rate: 0.01, MAE: 31.041\n",
      "learning_rate: 0.02, MAE: 30.614\n",
      "learning_rate: 0.03, MAE: 30.382\n",
      "learning_rate: 0.04, MAE: 30.146\n",
      "learning_rate: 0.05, MAE: 29.951\n",
      "learning_rate: 0.06, MAE: 29.923\n",
      "learning_rate: 0.07, MAE: 29.903\n",
      "learning_rate: 0.08, MAE: 29.854\n",
      "learning_rate: 0.09, MAE: 29.836\n",
      "learning_rate: 0.1, MAE: 29.737\n"
     ]
    }
   ],
   "source": [
    "# 3rd model improvement \n",
    "for learning_rate in range(1, 11, 1): \n",
    "    learning_rate = learning_rate / 100\n",
    "    model_lgbm3 = LGBMRegressor(n_estimators=1500, max_depth=8, learning_rate=learning_rate, random_state=0)\n",
    "    model_lgbm3.fit(X_train_lgbm, y_train_lgbm)\n",
    "    predictions_lgbm3 = model_lgbm3.predict(X_test_lgbm)\n",
    "    mae_lgbm3 = mean_absolute_error(y_test_lgbm, predictions_lgbm3)\n",
    "    print(\"learning_rate: {0}, MAE: {1:0.3f}\".format(learning_rate, mae_lgbm3))"
   ]
  },
  {
   "cell_type": "code",
   "execution_count": 90,
   "id": "0205a681",
   "metadata": {},
   "outputs": [
    {
     "name": "stdout",
     "output_type": "stream",
     "text": [
      "min_child_weight: 10, MAE: 29.737\n",
      "min_child_weight: 20, MAE: 29.737\n",
      "min_child_weight: 30, MAE: 29.690\n",
      "min_child_weight: 40, MAE: 29.956\n",
      "min_child_weight: 50, MAE: 30.218\n"
     ]
    }
   ],
   "source": [
    "# 4th model improvement\n",
    "for min_child_weight in range(10, 60, 10): \n",
    "    model_lgbm4 = LGBMRegressor(n_estimators=1500, max_depth=8, min_child_weight=min_child_weight, random_state=0)\n",
    "    model_lgbm4.fit(X_train_lgbm, y_train_lgbm)\n",
    "    predictions_lgbm4 = model_lgbm4.predict(X_test_lgbm)\n",
    "    mae_lgbm4 = mean_absolute_error(y_test_lgbm, predictions_lgbm4)\n",
    "    print(\"min_child_weight: {0}, MAE: {1:0.3f}\".format(min_child_weight, mae_lgbm4))"
   ]
  },
  {
   "cell_type": "markdown",
   "id": "231c9bae",
   "metadata": {},
   "source": [
    "Optimal min_child_weight = 30"
   ]
  },
  {
   "cell_type": "code",
   "execution_count": 97,
   "id": "cc8d7366",
   "metadata": {},
   "outputs": [
    {
     "name": "stdout",
     "output_type": "stream",
     "text": [
      "Lambda: 0.3, MAE: 29.970\n",
      "Lambda: 0.31, MAE: 29.987\n",
      "Lambda: 0.32, MAE: 29.623\n",
      "Lambda: 0.33, MAE: 29.833\n",
      "Lambda: 0.34, MAE: 29.645\n",
      "Lambda: 0.35, MAE: 29.927\n",
      "Lambda: 0.36, MAE: 29.957\n",
      "Lambda: 0.37, MAE: 29.871\n",
      "Lambda: 0.38, MAE: 29.883\n",
      "Lambda: 0.39, MAE: 29.830\n",
      "Lambda: 0.4, MAE: 29.668\n"
     ]
    }
   ],
   "source": [
    "# 5th model improvement \n",
    "for lambd in range(30, 41, 1): \n",
    "    lambd = lambd/100\n",
    "    model_lgbm5 = LGBMRegressor(n_estimators=1500, max_depth=8, min_child_weight=30, reg_lambda=lambd, \n",
    "                               random_state=0)\n",
    "    model_lgbm5.fit(X_train_lgbm, y_train_lgbm)\n",
    "    predictions_lgbm5 = model_lgbm5.predict(X_test_lgbm)\n",
    "    mae_lgbm5 = mean_absolute_error(y_test_lgbm, predictions_lgbm5)\n",
    "    print(\"Lambda: {0}, MAE: {1:0.3f}\".format(lambd, mae_lgbm5))"
   ]
  },
  {
   "cell_type": "markdown",
   "id": "145703da",
   "metadata": {},
   "source": [
    "Optimal lambda = 0.32"
   ]
  },
  {
   "cell_type": "code",
   "execution_count": 98,
   "id": "9e2d2f02",
   "metadata": {},
   "outputs": [],
   "source": [
    "# Final model \n",
    "lgbm_model = LGBMRegressor(n_estimators=1500, max_depth=8, min_child_weight=30, reg_lambda=0.32, random_state=0)\n",
    "lgbm_model.fit(X_train_lgbm, y_train_lgbm)\n",
    "lgbm_predictions = lgbm_model.predict(X_test_lgbm)"
   ]
  },
  {
   "cell_type": "code",
   "execution_count": null,
   "id": "6d16a3db",
   "metadata": {},
   "outputs": [],
   "source": []
  }
 ],
 "metadata": {
  "kernelspec": {
   "display_name": "Python 3",
   "language": "python",
   "name": "python3"
  },
  "language_info": {
   "codemirror_mode": {
    "name": "ipython",
    "version": 3
   },
   "file_extension": ".py",
   "mimetype": "text/x-python",
   "name": "python",
   "nbconvert_exporter": "python",
   "pygments_lexer": "ipython3",
   "version": "3.8.8"
  }
 },
 "nbformat": 4,
 "nbformat_minor": 5
}
