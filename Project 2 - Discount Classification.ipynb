{
 "cells": [
  {
   "cell_type": "markdown",
   "id": "24a3e4da",
   "metadata": {},
   "source": [
    "# Project: Discount Classification\n",
    "Objective: Build a model to classify whether a course will be discounted <br> \n",
    "Models: Decision Trees, Random Forest, Logistic Regression, Naive Bayes, Support Vector Machines <br>\n",
    "Evaluation Metrics: Classification Accuracy, ROC Area Under Curve"
   ]
  },
  {
   "cell_type": "markdown",
   "id": "44e39c54",
   "metadata": {},
   "source": [
    "## Packages"
   ]
  },
  {
   "cell_type": "code",
   "execution_count": 10,
   "id": "77b47608",
   "metadata": {},
   "outputs": [],
   "source": [
    "# Data Handing \n",
    "import pandas as pd\n",
    "import numpy as np\n",
    "\n",
    "# Preprocessing \n",
    "from sklearn.model_selection import train_test_split\n",
    "from sklearn.preprocessing import OrdinalEncoder\n",
    "from sklearn.neighbors import LocalOutlierFactor\n",
    "\n",
    "# Model\n",
    "from sklearn.tree import DecisionTreeClassifier\n",
    "from sklearn.ensemble import RandomForestClassifier\n",
    "from sklearn.linear_model import LogisticRegression\n",
    "from sklearn.naive_bayes import GaussianNB, MultinomialNB, ComplementNB, BernoulliNB, CategoricalNB\n",
    "from sklearn.svm import SVC\n",
    "from optbinning import OptimalBinning\n",
    "\n",
    "# Evaluation\n",
    "from sklearn.metrics import accuracy_score\n",
    "from sklearn.metrics import roc_auc_score"
   ]
  },
  {
   "cell_type": "markdown",
   "id": "4f9701b2",
   "metadata": {},
   "source": [
    "## Import data"
   ]
  },
  {
   "cell_type": "code",
   "execution_count": 11,
   "id": "1a37223f",
   "metadata": {
    "scrolled": true
   },
   "outputs": [
    {
     "data": {
      "text/html": [
       "<div>\n",
       "<style scoped>\n",
       "    .dataframe tbody tr th:only-of-type {\n",
       "        vertical-align: middle;\n",
       "    }\n",
       "\n",
       "    .dataframe tbody tr th {\n",
       "        vertical-align: top;\n",
       "    }\n",
       "\n",
       "    .dataframe thead th {\n",
       "        text-align: right;\n",
       "    }\n",
       "</style>\n",
       "<table border=\"1\" class=\"dataframe\">\n",
       "  <thead>\n",
       "    <tr style=\"text-align: right;\">\n",
       "      <th></th>\n",
       "      <th>Title</th>\n",
       "      <th>Overall_Rating</th>\n",
       "      <th>Best_Rating</th>\n",
       "      <th>Worst_Rating</th>\n",
       "      <th>No_of_Ratings</th>\n",
       "      <th>Category</th>\n",
       "      <th>Subcategory</th>\n",
       "      <th>Topic</th>\n",
       "      <th>Instructor</th>\n",
       "      <th>Language</th>\n",
       "      <th>SkillsFuture</th>\n",
       "      <th>No_of_Practice_Test</th>\n",
       "      <th>No_of_Articles</th>\n",
       "      <th>No_of_Coding_Exercises</th>\n",
       "      <th>Video_Duration_Hr</th>\n",
       "      <th>No_of_Additional_Resources</th>\n",
       "      <th>Bestseller</th>\n",
       "      <th>Price</th>\n",
       "      <th>Discounted_Price</th>\n",
       "    </tr>\n",
       "  </thead>\n",
       "  <tbody>\n",
       "    <tr>\n",
       "      <th>0</th>\n",
       "      <td>Complete Hypnotherapy &amp; Hypnosis Certification...</td>\n",
       "      <td>4.7</td>\n",
       "      <td>5</td>\n",
       "      <td>0.5</td>\n",
       "      <td>3524</td>\n",
       "      <td>Lifestyle</td>\n",
       "      <td>Esoteric Practices</td>\n",
       "      <td>Hypnotherapy</td>\n",
       "      <td>Dr Karen E Wells</td>\n",
       "      <td>English</td>\n",
       "      <td>False</td>\n",
       "      <td>0</td>\n",
       "      <td>4</td>\n",
       "      <td>0</td>\n",
       "      <td>3.000000</td>\n",
       "      <td>0</td>\n",
       "      <td>Yes</td>\n",
       "      <td>104.98</td>\n",
       "      <td>26.0</td>\n",
       "    </tr>\n",
       "    <tr>\n",
       "      <th>1</th>\n",
       "      <td>Pinterest Marketing for Wedding Professionals ...</td>\n",
       "      <td>5.0</td>\n",
       "      <td>5</td>\n",
       "      <td>0.5</td>\n",
       "      <td>1</td>\n",
       "      <td>Marketing</td>\n",
       "      <td>Social Media Marketing</td>\n",
       "      <td>Pinterest Marketing</td>\n",
       "      <td>Staci Nichols</td>\n",
       "      <td>English</td>\n",
       "      <td>False</td>\n",
       "      <td>0</td>\n",
       "      <td>0</td>\n",
       "      <td>0</td>\n",
       "      <td>0.600000</td>\n",
       "      <td>2</td>\n",
       "      <td>No</td>\n",
       "      <td>29.98</td>\n",
       "      <td>22.0</td>\n",
       "    </tr>\n",
       "    <tr>\n",
       "      <th>2</th>\n",
       "      <td>Master the Telephone Sales- Cold calling Secrets</td>\n",
       "      <td>4.5</td>\n",
       "      <td>5</td>\n",
       "      <td>0.5</td>\n",
       "      <td>3</td>\n",
       "      <td>Marketing</td>\n",
       "      <td>Product Marketing</td>\n",
       "      <td>Marketing Strategy</td>\n",
       "      <td>Sanjay Bhasin</td>\n",
       "      <td>English</td>\n",
       "      <td>False</td>\n",
       "      <td>0</td>\n",
       "      <td>0</td>\n",
       "      <td>0</td>\n",
       "      <td>0.733333</td>\n",
       "      <td>0</td>\n",
       "      <td>No</td>\n",
       "      <td>29.98</td>\n",
       "      <td>22.0</td>\n",
       "    </tr>\n",
       "    <tr>\n",
       "      <th>3</th>\n",
       "      <td>5 Practical Management concepts you MUST know</td>\n",
       "      <td>5.0</td>\n",
       "      <td>5</td>\n",
       "      <td>0.5</td>\n",
       "      <td>2</td>\n",
       "      <td>Personal Development</td>\n",
       "      <td>Leadership</td>\n",
       "      <td>Management Skills</td>\n",
       "      <td>Vasudev Murthy</td>\n",
       "      <td>English</td>\n",
       "      <td>False</td>\n",
       "      <td>0</td>\n",
       "      <td>0</td>\n",
       "      <td>0</td>\n",
       "      <td>2.000000</td>\n",
       "      <td>0</td>\n",
       "      <td>No</td>\n",
       "      <td>49.98</td>\n",
       "      <td>22.0</td>\n",
       "    </tr>\n",
       "    <tr>\n",
       "      <th>4</th>\n",
       "      <td>Fermented Foods Mastery</td>\n",
       "      <td>4.5</td>\n",
       "      <td>5</td>\n",
       "      <td>0.5</td>\n",
       "      <td>187</td>\n",
       "      <td>Health &amp; Fitness</td>\n",
       "      <td>Nutrition</td>\n",
       "      <td>Fermented Foods</td>\n",
       "      <td>Kale Brock</td>\n",
       "      <td>English</td>\n",
       "      <td>False</td>\n",
       "      <td>0</td>\n",
       "      <td>3</td>\n",
       "      <td>0</td>\n",
       "      <td>1.500000</td>\n",
       "      <td>12</td>\n",
       "      <td>No</td>\n",
       "      <td>68.98</td>\n",
       "      <td>24.0</td>\n",
       "    </tr>\n",
       "  </tbody>\n",
       "</table>\n",
       "</div>"
      ],
      "text/plain": [
       "                                               Title  Overall_Rating  \\\n",
       "0  Complete Hypnotherapy & Hypnosis Certification...             4.7   \n",
       "1  Pinterest Marketing for Wedding Professionals ...             5.0   \n",
       "2   Master the Telephone Sales- Cold calling Secrets             4.5   \n",
       "3      5 Practical Management concepts you MUST know             5.0   \n",
       "4                            Fermented Foods Mastery             4.5   \n",
       "\n",
       "   Best_Rating  Worst_Rating  No_of_Ratings              Category  \\\n",
       "0            5           0.5           3524             Lifestyle   \n",
       "1            5           0.5              1             Marketing   \n",
       "2            5           0.5              3             Marketing   \n",
       "3            5           0.5              2  Personal Development   \n",
       "4            5           0.5            187      Health & Fitness   \n",
       "\n",
       "              Subcategory                Topic        Instructor Language  \\\n",
       "0      Esoteric Practices         Hypnotherapy  Dr Karen E Wells  English   \n",
       "1  Social Media Marketing  Pinterest Marketing     Staci Nichols  English   \n",
       "2       Product Marketing   Marketing Strategy     Sanjay Bhasin  English   \n",
       "3              Leadership    Management Skills    Vasudev Murthy  English   \n",
       "4               Nutrition      Fermented Foods        Kale Brock  English   \n",
       "\n",
       "   SkillsFuture  No_of_Practice_Test  No_of_Articles  No_of_Coding_Exercises  \\\n",
       "0         False                    0               4                       0   \n",
       "1         False                    0               0                       0   \n",
       "2         False                    0               0                       0   \n",
       "3         False                    0               0                       0   \n",
       "4         False                    0               3                       0   \n",
       "\n",
       "   Video_Duration_Hr  No_of_Additional_Resources Bestseller   Price  \\\n",
       "0           3.000000                           0        Yes  104.98   \n",
       "1           0.600000                           2         No   29.98   \n",
       "2           0.733333                           0         No   29.98   \n",
       "3           2.000000                           0         No   49.98   \n",
       "4           1.500000                          12         No   68.98   \n",
       "\n",
       "   Discounted_Price  \n",
       "0              26.0  \n",
       "1              22.0  \n",
       "2              22.0  \n",
       "3              22.0  \n",
       "4              24.0  "
      ]
     },
     "execution_count": 11,
     "metadata": {},
     "output_type": "execute_result"
    }
   ],
   "source": [
    "# Import data\n",
    "df_raw = pd.read_csv(\"./Data/Udemy_Clean.csv\", index_col=0)\n",
    "df_raw.head()"
   ]
  },
  {
   "cell_type": "code",
   "execution_count": 12,
   "id": "a8b110ce",
   "metadata": {
    "scrolled": true
   },
   "outputs": [
    {
     "data": {
      "text/html": [
       "<div>\n",
       "<style scoped>\n",
       "    .dataframe tbody tr th:only-of-type {\n",
       "        vertical-align: middle;\n",
       "    }\n",
       "\n",
       "    .dataframe tbody tr th {\n",
       "        vertical-align: top;\n",
       "    }\n",
       "\n",
       "    .dataframe thead th {\n",
       "        text-align: right;\n",
       "    }\n",
       "</style>\n",
       "<table border=\"1\" class=\"dataframe\">\n",
       "  <thead>\n",
       "    <tr style=\"text-align: right;\">\n",
       "      <th></th>\n",
       "      <th>Overall_Rating</th>\n",
       "      <th>Best_Rating</th>\n",
       "      <th>Worst_Rating</th>\n",
       "      <th>No_of_Ratings</th>\n",
       "      <th>Category</th>\n",
       "      <th>Subcategory</th>\n",
       "      <th>Topic</th>\n",
       "      <th>Instructor</th>\n",
       "      <th>Language</th>\n",
       "      <th>SkillsFuture</th>\n",
       "      <th>No_of_Practice_Test</th>\n",
       "      <th>No_of_Articles</th>\n",
       "      <th>No_of_Coding_Exercises</th>\n",
       "      <th>Video_Duration_Hr</th>\n",
       "      <th>No_of_Additional_Resources</th>\n",
       "      <th>Bestseller</th>\n",
       "      <th>Price</th>\n",
       "      <th>Discounted</th>\n",
       "    </tr>\n",
       "  </thead>\n",
       "  <tbody>\n",
       "    <tr>\n",
       "      <th>0</th>\n",
       "      <td>4.7</td>\n",
       "      <td>5</td>\n",
       "      <td>0.5</td>\n",
       "      <td>3524</td>\n",
       "      <td>Lifestyle</td>\n",
       "      <td>Esoteric Practices</td>\n",
       "      <td>Hypnotherapy</td>\n",
       "      <td>Dr Karen E Wells</td>\n",
       "      <td>English</td>\n",
       "      <td>False</td>\n",
       "      <td>0</td>\n",
       "      <td>4</td>\n",
       "      <td>0</td>\n",
       "      <td>3.000000</td>\n",
       "      <td>0</td>\n",
       "      <td>Yes</td>\n",
       "      <td>104.98</td>\n",
       "      <td>1</td>\n",
       "    </tr>\n",
       "    <tr>\n",
       "      <th>1</th>\n",
       "      <td>5.0</td>\n",
       "      <td>5</td>\n",
       "      <td>0.5</td>\n",
       "      <td>1</td>\n",
       "      <td>Marketing</td>\n",
       "      <td>Social Media Marketing</td>\n",
       "      <td>Pinterest Marketing</td>\n",
       "      <td>Staci Nichols</td>\n",
       "      <td>English</td>\n",
       "      <td>False</td>\n",
       "      <td>0</td>\n",
       "      <td>0</td>\n",
       "      <td>0</td>\n",
       "      <td>0.600000</td>\n",
       "      <td>2</td>\n",
       "      <td>No</td>\n",
       "      <td>29.98</td>\n",
       "      <td>1</td>\n",
       "    </tr>\n",
       "    <tr>\n",
       "      <th>2</th>\n",
       "      <td>4.5</td>\n",
       "      <td>5</td>\n",
       "      <td>0.5</td>\n",
       "      <td>3</td>\n",
       "      <td>Marketing</td>\n",
       "      <td>Product Marketing</td>\n",
       "      <td>Marketing Strategy</td>\n",
       "      <td>Sanjay Bhasin</td>\n",
       "      <td>English</td>\n",
       "      <td>False</td>\n",
       "      <td>0</td>\n",
       "      <td>0</td>\n",
       "      <td>0</td>\n",
       "      <td>0.733333</td>\n",
       "      <td>0</td>\n",
       "      <td>No</td>\n",
       "      <td>29.98</td>\n",
       "      <td>1</td>\n",
       "    </tr>\n",
       "    <tr>\n",
       "      <th>3</th>\n",
       "      <td>5.0</td>\n",
       "      <td>5</td>\n",
       "      <td>0.5</td>\n",
       "      <td>2</td>\n",
       "      <td>Personal Development</td>\n",
       "      <td>Leadership</td>\n",
       "      <td>Management Skills</td>\n",
       "      <td>Vasudev Murthy</td>\n",
       "      <td>English</td>\n",
       "      <td>False</td>\n",
       "      <td>0</td>\n",
       "      <td>0</td>\n",
       "      <td>0</td>\n",
       "      <td>2.000000</td>\n",
       "      <td>0</td>\n",
       "      <td>No</td>\n",
       "      <td>49.98</td>\n",
       "      <td>1</td>\n",
       "    </tr>\n",
       "    <tr>\n",
       "      <th>4</th>\n",
       "      <td>4.5</td>\n",
       "      <td>5</td>\n",
       "      <td>0.5</td>\n",
       "      <td>187</td>\n",
       "      <td>Health &amp; Fitness</td>\n",
       "      <td>Nutrition</td>\n",
       "      <td>Fermented Foods</td>\n",
       "      <td>Kale Brock</td>\n",
       "      <td>English</td>\n",
       "      <td>False</td>\n",
       "      <td>0</td>\n",
       "      <td>3</td>\n",
       "      <td>0</td>\n",
       "      <td>1.500000</td>\n",
       "      <td>12</td>\n",
       "      <td>No</td>\n",
       "      <td>68.98</td>\n",
       "      <td>1</td>\n",
       "    </tr>\n",
       "  </tbody>\n",
       "</table>\n",
       "</div>"
      ],
      "text/plain": [
       "   Overall_Rating  Best_Rating  Worst_Rating  No_of_Ratings  \\\n",
       "0             4.7            5           0.5           3524   \n",
       "1             5.0            5           0.5              1   \n",
       "2             4.5            5           0.5              3   \n",
       "3             5.0            5           0.5              2   \n",
       "4             4.5            5           0.5            187   \n",
       "\n",
       "               Category             Subcategory                Topic  \\\n",
       "0             Lifestyle      Esoteric Practices         Hypnotherapy   \n",
       "1             Marketing  Social Media Marketing  Pinterest Marketing   \n",
       "2             Marketing       Product Marketing   Marketing Strategy   \n",
       "3  Personal Development              Leadership    Management Skills   \n",
       "4      Health & Fitness               Nutrition      Fermented Foods   \n",
       "\n",
       "         Instructor Language  SkillsFuture  No_of_Practice_Test  \\\n",
       "0  Dr Karen E Wells  English         False                    0   \n",
       "1     Staci Nichols  English         False                    0   \n",
       "2     Sanjay Bhasin  English         False                    0   \n",
       "3    Vasudev Murthy  English         False                    0   \n",
       "4        Kale Brock  English         False                    0   \n",
       "\n",
       "   No_of_Articles  No_of_Coding_Exercises  Video_Duration_Hr  \\\n",
       "0               4                       0           3.000000   \n",
       "1               0                       0           0.600000   \n",
       "2               0                       0           0.733333   \n",
       "3               0                       0           2.000000   \n",
       "4               3                       0           1.500000   \n",
       "\n",
       "   No_of_Additional_Resources Bestseller   Price  Discounted  \n",
       "0                           0        Yes  104.98           1  \n",
       "1                           2         No   29.98           1  \n",
       "2                           0         No   29.98           1  \n",
       "3                           0         No   49.98           1  \n",
       "4                          12         No   68.98           1  "
      ]
     },
     "execution_count": 12,
     "metadata": {},
     "output_type": "execute_result"
    }
   ],
   "source": [
    "df_preprocessing = df_raw.copy()\n",
    "\n",
    "# Transform discount \n",
    "df_preprocessing[\"Discount_d\"] = (df_preprocessing[\"Discounted_Price\"] != df_preprocessing[\"Price\"])\n",
    "mapper = {True: 1, False: 0}\n",
    "df_preprocessing[\"Discounted\"] = df_preprocessing[\"Discount_d\"].map(mapper)\n",
    "\n",
    "# Drop irrelevant columns and rows\n",
    "df_preprocessing.drop(columns=[\"Title\", \"Discounted_Price\", \"Discount_d\"], inplace=True)\n",
    "df_preprocessing.drop(df_preprocessing[df_preprocessing[\"Category\"] == \"Leadership & Management\"].index, inplace=True)\n",
    "\n",
    "\n",
    "df_preprocessing.head()"
   ]
  },
  {
   "cell_type": "markdown",
   "id": "50978c15",
   "metadata": {},
   "source": [
    "## Preprocessing"
   ]
  },
  {
   "cell_type": "code",
   "execution_count": 13,
   "id": "1b1bc956",
   "metadata": {},
   "outputs": [],
   "source": [
    "# Category reduction\n",
    "subcategory_reduced = df_preprocessing[\"Subcategory\"].value_counts()[:20].index.to_list()\n",
    "topic_reduced = df_preprocessing[\"Topic\"].value_counts()[:20].index.to_list()\n",
    "instructor_reduced = df_preprocessing[\"Instructor\"].value_counts()[:20].index.to_list()\n",
    "\n",
    "# Defining functions\n",
    "def subcategory_reduction(subcategory): \n",
    "    if subcategory not in subcategory_reduced: \n",
    "        return \"Others\"\n",
    "    else: \n",
    "        return subcategory\n",
    "\n",
    "def topic_reduction(topic): \n",
    "    if topic not in topic_reduced: \n",
    "        return \"Others\"\n",
    "    else: \n",
    "        return topic\n",
    "\n",
    "def instructor_reduction(instructor): \n",
    "    if instructor not in instructor_reduced: \n",
    "        return \"Others\"\n",
    "    else: \n",
    "        return instructor\n",
    "\n",
    "df_preprocessing[\"Subcategory\"] = df_preprocessing[\"Subcategory\"].apply(lambda x: subcategory_reduction(x))\n",
    "df_preprocessing[\"Topic\"] = df_preprocessing[\"Topic\"].apply(lambda x: topic_reduction(x))\n",
    "df_preprocessing[\"Instructor\"] = df_preprocessing[\"Instructor\"].apply(lambda x: instructor_reduction(x))"
   ]
  },
  {
   "cell_type": "code",
   "execution_count": 14,
   "id": "3fb044cb",
   "metadata": {},
   "outputs": [],
   "source": [
    "# Define response and explanatory variables\n",
    "y = df_preprocessing[\"Discounted\"]\n",
    "X = df_preprocessing.drop(columns=[\"Discounted\"])\n",
    "\n",
    "# Train test split\n",
    "X_train, X_test, y_train, y_test = train_test_split(X, y, test_size=0.3, random_state=1)\n",
    "\n",
    "# Split into categorical and numeric for preprocessing \n",
    "X_train_categorical = X_train.select_dtypes(include=[\"object\",\"bool\"])\n",
    "X_test_categorical = X_test.select_dtypes(include=[\"object\",\"bool\"])\n",
    "X_train_numeric = X_train.select_dtypes(exclude=[\"object\",\"bool\"])\n",
    "X_test_numeric = X_test.select_dtypes(exclude=[\"object\",\"bool\"])"
   ]
  },
  {
   "cell_type": "markdown",
   "id": "637fcc16",
   "metadata": {},
   "source": [
    "### Categorical Variables"
   ]
  },
  {
   "cell_type": "code",
   "execution_count": 15,
   "id": "4aa6ed3d",
   "metadata": {},
   "outputs": [],
   "source": [
    "# Encoding \n",
    "ordinal_encoder = OrdinalEncoder()\n",
    "X_train_categorical_encoded = pd.DataFrame(ordinal_encoder.fit_transform(X_train_categorical), \n",
    "                                           columns=X_train_categorical.columns, index=X_train_categorical.index)\n",
    "X_test_categorical_encoded = pd.DataFrame(ordinal_encoder.transform(X_test_categorical), \n",
    "                                          columns=X_test_categorical.columns, index=X_test_categorical.index)"
   ]
  },
  {
   "cell_type": "code",
   "execution_count": 16,
   "id": "262265d3",
   "metadata": {},
   "outputs": [
    {
     "data": {
      "text/html": [
       "<div>\n",
       "<style scoped>\n",
       "    .dataframe tbody tr th:only-of-type {\n",
       "        vertical-align: middle;\n",
       "    }\n",
       "\n",
       "    .dataframe tbody tr th {\n",
       "        vertical-align: top;\n",
       "    }\n",
       "\n",
       "    .dataframe thead th {\n",
       "        text-align: right;\n",
       "    }\n",
       "</style>\n",
       "<table border=\"1\" class=\"dataframe\">\n",
       "  <thead>\n",
       "    <tr style=\"text-align: right;\">\n",
       "      <th></th>\n",
       "      <th>Category</th>\n",
       "      <th>Subcategory</th>\n",
       "      <th>Topic</th>\n",
       "      <th>Instructor</th>\n",
       "      <th>Language</th>\n",
       "      <th>SkillsFuture</th>\n",
       "      <th>Bestseller</th>\n",
       "    </tr>\n",
       "  </thead>\n",
       "  <tbody>\n",
       "    <tr>\n",
       "      <th>10047</th>\n",
       "      <td>1.0</td>\n",
       "      <td>15.0</td>\n",
       "      <td>5.0</td>\n",
       "      <td>13.0</td>\n",
       "      <td>0.0</td>\n",
       "      <td>0.0</td>\n",
       "      <td>0.0</td>\n",
       "    </tr>\n",
       "    <tr>\n",
       "      <th>234</th>\n",
       "      <td>5.0</td>\n",
       "      <td>15.0</td>\n",
       "      <td>5.0</td>\n",
       "      <td>13.0</td>\n",
       "      <td>0.0</td>\n",
       "      <td>1.0</td>\n",
       "      <td>0.0</td>\n",
       "    </tr>\n",
       "    <tr>\n",
       "      <th>11431</th>\n",
       "      <td>1.0</td>\n",
       "      <td>15.0</td>\n",
       "      <td>5.0</td>\n",
       "      <td>13.0</td>\n",
       "      <td>0.0</td>\n",
       "      <td>0.0</td>\n",
       "      <td>1.0</td>\n",
       "    </tr>\n",
       "    <tr>\n",
       "      <th>987</th>\n",
       "      <td>12.0</td>\n",
       "      <td>9.0</td>\n",
       "      <td>5.0</td>\n",
       "      <td>13.0</td>\n",
       "      <td>0.0</td>\n",
       "      <td>0.0</td>\n",
       "      <td>0.0</td>\n",
       "    </tr>\n",
       "    <tr>\n",
       "      <th>14492</th>\n",
       "      <td>5.0</td>\n",
       "      <td>14.0</td>\n",
       "      <td>5.0</td>\n",
       "      <td>13.0</td>\n",
       "      <td>0.0</td>\n",
       "      <td>0.0</td>\n",
       "      <td>0.0</td>\n",
       "    </tr>\n",
       "  </tbody>\n",
       "</table>\n",
       "</div>"
      ],
      "text/plain": [
       "       Category  Subcategory  Topic  Instructor  Language  SkillsFuture  \\\n",
       "10047       1.0         15.0    5.0        13.0       0.0           0.0   \n",
       "234         5.0         15.0    5.0        13.0       0.0           1.0   \n",
       "11431       1.0         15.0    5.0        13.0       0.0           0.0   \n",
       "987        12.0          9.0    5.0        13.0       0.0           0.0   \n",
       "14492       5.0         14.0    5.0        13.0       0.0           0.0   \n",
       "\n",
       "       Bestseller  \n",
       "10047         0.0  \n",
       "234           0.0  \n",
       "11431         1.0  \n",
       "987           0.0  \n",
       "14492         0.0  "
      ]
     },
     "execution_count": 16,
     "metadata": {},
     "output_type": "execute_result"
    }
   ],
   "source": [
    "X_train_categorical_encoded.head()"
   ]
  },
  {
   "cell_type": "code",
   "execution_count": 17,
   "id": "bff0eb67",
   "metadata": {},
   "outputs": [],
   "source": [
    "# Combine back both dataframes \n",
    "X_train_processed = pd.concat([X_train_numeric, X_train_categorical_encoded], axis=1)\n",
    "X_test_processed = pd.concat([X_test_numeric, X_test_categorical_encoded], axis=1)"
   ]
  },
  {
   "cell_type": "markdown",
   "id": "ca3f9725",
   "metadata": {},
   "source": [
    "### Outliers"
   ]
  },
  {
   "cell_type": "code",
   "execution_count": 18,
   "id": "c267fd9d",
   "metadata": {},
   "outputs": [],
   "source": [
    "# Outlier Detection\n",
    "lof = LocalOutlierFactor()\n",
    "yhat = pd.DataFrame({\"Outlier_d\": lof.fit_predict(X_train_processed)}, index=X_train_processed.index)\n",
    "outlier_index = yhat.loc[yhat[\"Outlier_d\"]==-1, :].index\n",
    "\n",
    "# Outlier Removal \n",
    "X_train_processed.drop(outlier_index, inplace=True)\n",
    "y_train = y_train.drop(outlier_index)"
   ]
  },
  {
   "cell_type": "markdown",
   "id": "4aaba085",
   "metadata": {},
   "source": [
    "## Model Development "
   ]
  },
  {
   "cell_type": "markdown",
   "id": "96719b56",
   "metadata": {},
   "source": [
    "### (1) Decision Tree Classifier"
   ]
  },
  {
   "cell_type": "code",
   "execution_count": 19,
   "id": "674ef067",
   "metadata": {},
   "outputs": [
    {
     "name": "stdout",
     "output_type": "stream",
     "text": [
      "Score: 0.63639\n"
     ]
    }
   ],
   "source": [
    "# Initial model\n",
    "model_DTC = DecisionTreeClassifier(random_state=1)\n",
    "model_DTC.fit(X_train_processed, y_train)\n",
    "predictions_DTC = model_DTC.predict(X_test_processed)\n",
    "auc_score_DTC = roc_auc_score(y_test, predictions_DTC)\n",
    "print(\"Score: {0:0.5f}\".format(auc_score_DTC))"
   ]
  },
  {
   "cell_type": "code",
   "execution_count": 20,
   "id": "c345e758",
   "metadata": {},
   "outputs": [
    {
     "name": "stdout",
     "output_type": "stream",
     "text": [
      "alpha: 0.0, Score: 0.63639\n",
      "alpha: 0.0001, Score: 0.64104\n",
      "alpha: 0.0002, Score: 0.62745\n",
      "alpha: 0.0003, Score: 0.61418\n",
      "alpha: 0.0004, Score: 0.60875\n",
      "alpha: 0.0005, Score: 0.60875\n",
      "alpha: 0.0006, Score: 0.60875\n",
      "alpha: 0.0007, Score: 0.59814\n",
      "alpha: 0.0008, Score: 0.59814\n",
      "alpha: 0.0009, Score: 0.58886\n",
      "alpha: 0.001, Score: 0.58886\n"
     ]
    }
   ],
   "source": [
    "# 1st model improvement \n",
    "for alpha in range(0, 11, 1): \n",
    "    alpha = alpha / 10000\n",
    "    model_DTC1 = DecisionTreeClassifier(ccp_alpha=alpha, random_state=1)\n",
    "    model_DTC1.fit(X_train_processed, y_train)\n",
    "    predictions_DTC1 = model_DTC1.predict(X_test_processed)\n",
    "    auc_score_DTC1 = roc_auc_score(y_test, predictions_DTC1)\n",
    "    print(\"alpha: {0}, Score: {1:0.5f}\".format(alpha, auc_score_DTC1))"
   ]
  },
  {
   "cell_type": "markdown",
   "id": "c2098fc6",
   "metadata": {},
   "source": [
    "Optimal alpha = 0.0001"
   ]
  },
  {
   "cell_type": "code",
   "execution_count": 21,
   "id": "b3e1145b",
   "metadata": {},
   "outputs": [],
   "source": [
    "# Final Model \n",
    "DTC_model = DecisionTreeClassifier(ccp_alpha=0.0001, random_state=1)\n",
    "DTC_model.fit(X_train_processed, y_train)\n",
    "DTC_predictions = DTC_model.predict(X_test_processed)"
   ]
  },
  {
   "cell_type": "markdown",
   "id": "392ca9bb",
   "metadata": {},
   "source": [
    "### (2) Random Forest Classifier"
   ]
  },
  {
   "cell_type": "code",
   "execution_count": 22,
   "id": "34f0bbf7",
   "metadata": {},
   "outputs": [
    {
     "name": "stdout",
     "output_type": "stream",
     "text": [
      "Score: 0.60578\n"
     ]
    }
   ],
   "source": [
    "# Inital model\n",
    "model_RFC = RandomForestClassifier(random_state=0)\n",
    "model_RFC.fit(X_train_processed, y_train)\n",
    "predictions_RFC = model_RFC.predict(X_test_processed)\n",
    "auc_score_RFC = roc_auc_score(y_test, predictions_RFC)\n",
    "print(\"Score: {0:0.5f}\".format(auc_score_RFC))"
   ]
  },
  {
   "cell_type": "code",
   "execution_count": 24,
   "id": "a3af25e6",
   "metadata": {},
   "outputs": [
    {
     "name": "stdout",
     "output_type": "stream",
     "text": [
      "n_esimators: 1, Score: 0.61104\n",
      "n_esimators: 2, Score: 0.65464\n",
      "n_esimators: 3, Score: 0.62253\n",
      "n_esimators: 4, Score: 0.63882\n",
      "n_esimators: 5, Score: 0.61885\n",
      "n_esimators: 6, Score: 0.62551\n",
      "n_esimators: 7, Score: 0.60779\n",
      "n_esimators: 8, Score: 0.61554\n",
      "n_esimators: 9, Score: 0.60856\n",
      "n_esimators: 10, Score: 0.61265\n"
     ]
    }
   ],
   "source": [
    "# First model improvement\n",
    "for n in range(1, 11, 1):\n",
    "    model_RFC1 = RandomForestClassifier(n_estimators=n, random_state=0)\n",
    "    model_RFC1.fit(X_train_processed, y_train)\n",
    "    predictions_RFC1 = model_RFC1.predict(X_test_processed)\n",
    "    auc_score_RFC1 = roc_auc_score(y_test, predictions_RFC1)\n",
    "    print(\"n_esimators: {0}, Score: {1:0.5f}\".format(n, auc_score_RFC1))"
   ]
  },
  {
   "cell_type": "markdown",
   "id": "07b3584c",
   "metadata": {},
   "source": [
    "Optimal n_estimators = 2"
   ]
  },
  {
   "cell_type": "code",
   "execution_count": 32,
   "id": "6b998afd",
   "metadata": {},
   "outputs": [],
   "source": [
    "# Final Model \n",
    "RFC_model = RandomForestClassifier(n_estimators=2, random_state=0)\n",
    "RFC_model.fit(X_train_processed, y_train)\n",
    "RFC_predictions = RFC_model.predict(X_test_processed)"
   ]
  },
  {
   "cell_type": "markdown",
   "id": "b201a309",
   "metadata": {},
   "source": [
    "### (3) Logistic Regression"
   ]
  },
  {
   "cell_type": "code",
   "execution_count": 33,
   "id": "94cf63b7",
   "metadata": {},
   "outputs": [
    {
     "name": "stdout",
     "output_type": "stream",
     "text": [
      "Score: 0.50000\n"
     ]
    }
   ],
   "source": [
    "# Inital Model \n",
    "model_LR = LogisticRegression(solver=\"liblinear\", random_state=1)\n",
    "model_LR.fit(X_train_processed, y_train)\n",
    "predictions_LR = model_LR.predict(X_test_processed)\n",
    "auc_score_LR = roc_auc_score(y_test, predictions_LR)\n",
    "print(\"Score: {0:0.5f}\".format(auc_score_LR))"
   ]
  },
  {
   "cell_type": "code",
   "execution_count": 73,
   "id": "d3d4b04c",
   "metadata": {},
   "outputs": [],
   "source": [
    "# Final model \n",
    "LR_model = LogisticRegression(solver=\"liblinear\", random_state=1)\n",
    "LR_model.fit(X_train_processed, y_train)\n",
    "LR_predictions = LR_model.predict(X_test_processed)"
   ]
  },
  {
   "cell_type": "markdown",
   "id": "1dccc1aa",
   "metadata": {},
   "source": [
    "### (4) Naive Bayes"
   ]
  },
  {
   "cell_type": "code",
   "execution_count": 74,
   "id": "3b926e45",
   "metadata": {},
   "outputs": [
    {
     "name": "stdout",
     "output_type": "stream",
     "text": [
      "Score: 0.53322\n"
     ]
    }
   ],
   "source": [
    "# Gaussian Naive Bayes\n",
    "model_GNB = GaussianNB()\n",
    "model_GNB.fit(X_train_processed, y_train)\n",
    "predictions_GNB = model_GNB.predict(X_test_processed)\n",
    "auc_score_GNB = roc_auc_score(y_test, predictions_GNB)\n",
    "print(\"Score: {0:0.5f}\".format(auc_score_GNB))"
   ]
  },
  {
   "cell_type": "code",
   "execution_count": 75,
   "id": "438b098b",
   "metadata": {},
   "outputs": [
    {
     "name": "stdout",
     "output_type": "stream",
     "text": [
      "Score: 0.54897\n"
     ]
    }
   ],
   "source": [
    "# Multinomial Naive Bayes \n",
    "model_MNB = MultinomialNB()\n",
    "model_MNB.fit(X_train_processed, y_train)\n",
    "predictions_MNB = model_MNB.predict(X_test_processed)\n",
    "auc_score_MNB = roc_auc_score(y_test, predictions_MNB)\n",
    "print(\"Score: {0:0.5f}\".format(auc_score_MNB))"
   ]
  },
  {
   "cell_type": "code",
   "execution_count": 76,
   "id": "9e5faeb2",
   "metadata": {},
   "outputs": [
    {
     "name": "stdout",
     "output_type": "stream",
     "text": [
      "Score: 0.54754\n"
     ]
    }
   ],
   "source": [
    "# Complement Naive Bayes \n",
    "model_CoNB = ComplementNB()\n",
    "model_CoNB.fit(X_train_processed, y_train)\n",
    "predictions_CoNB = model_CoNB.predict(X_test_processed)\n",
    "auc_score_CoNB = roc_auc_score(y_test, predictions_CoNB)\n",
    "print(\"Score: {0:0.5f}\".format(auc_score_CoNB))"
   ]
  },
  {
   "cell_type": "code",
   "execution_count": 77,
   "id": "fb623f1b",
   "metadata": {},
   "outputs": [
    {
     "name": "stdout",
     "output_type": "stream",
     "text": [
      "Score: 0.50663\n"
     ]
    }
   ],
   "source": [
    "# Bernoulli Naive Bayes \n",
    "model_BNB = BernoulliNB()\n",
    "model_BNB.fit(X_train_processed, y_train)\n",
    "predictions_BNB = model_BNB.predict(X_test_processed)\n",
    "auc_score_BNB = roc_auc_score(y_test, predictions_BNB)\n",
    "print(\"Score: {0:0.5f}\".format(auc_score_BNB))"
   ]
  },
  {
   "cell_type": "code",
   "execution_count": 78,
   "id": "83c4bb26",
   "metadata": {},
   "outputs": [],
   "source": [
    "# Final model \n",
    "NB_model = MultinomialNB()\n",
    "NB_model.fit(X_train_processed, y_train)\n",
    "NB_predictions = NB_model.predict(X_test_processed)"
   ]
  },
  {
   "cell_type": "markdown",
   "id": "29b23464",
   "metadata": {},
   "source": [
    "### (5) Support Vector Classification"
   ]
  },
  {
   "cell_type": "code",
   "execution_count": 79,
   "id": "53ff54ab",
   "metadata": {},
   "outputs": [
    {
     "name": "stdout",
     "output_type": "stream",
     "text": [
      "Score: 0.50000\n"
     ]
    }
   ],
   "source": [
    "# Initial model \n",
    "model_SVC = SVC(random_state=1)\n",
    "model_SVC.fit(X_train_processed, y_train)\n",
    "predictions_SVC = model_SVC.predict(X_test_processed)\n",
    "auc_score_SVC = roc_auc_score(y_test, predictions_SVC)\n",
    "print(\"Score: {0:0.5f}\".format(auc_score_SVC))"
   ]
  },
  {
   "cell_type": "code",
   "execution_count": 80,
   "id": "10132c64",
   "metadata": {},
   "outputs": [
    {
     "name": "stdout",
     "output_type": "stream",
     "text": [
      "Score: 0.54100\n"
     ]
    }
   ],
   "source": [
    "# First model improvement\n",
    "model_SVC1 = SVC(gamma=\"auto\", random_state=1)\n",
    "model_SVC1.fit(X_train_processed, y_train)\n",
    "predictions_SVC1 = model_SVC1.predict(X_test_processed)\n",
    "auc_score_SVC1 = roc_auc_score(y_test, predictions_SVC1)\n",
    "print(\"Score: {0:0.5f}\".format(auc_score_SVC1))"
   ]
  },
  {
   "cell_type": "code",
   "execution_count": 81,
   "id": "8d6d9f1c",
   "metadata": {},
   "outputs": [],
   "source": [
    "# Final model \n",
    "SVC_model = SVC(gamma=\"auto\", random_state=2)\n",
    "SVC_model.fit(X_train_processed, y_train)\n",
    "SVC_predictions = SVC_model.predict(X_test_processed)"
   ]
  },
  {
   "cell_type": "markdown",
   "id": "3d0ea36a",
   "metadata": {},
   "source": [
    "## Model Evaluation"
   ]
  },
  {
   "cell_type": "markdown",
   "id": "3a4d34ed",
   "metadata": {},
   "source": [
    "We will be using the accuracy score to calculate how accurate the classification of the predictions compare with the actual results. "
   ]
  },
  {
   "cell_type": "code",
   "execution_count": 82,
   "id": "43aa882d",
   "metadata": {},
   "outputs": [
    {
     "name": "stdout",
     "output_type": "stream",
     "text": [
      "Model: Decision Tree, Score: 0.90992\n",
      "Model: Random Forest, Score: 0.85190\n",
      "Model: Logistic Regression, Score: 0.92351\n",
      "Model: Naive Bayes, Score: 0.23210\n",
      "Model: Support Vector, Score: 0.92960\n"
     ]
    }
   ],
   "source": [
    "# Calculate score \n",
    "DTC_score = accuracy_score(y_test, DTC_predictions)\n",
    "RFC_score = accuracy_score(y_test, RFC_predictions)\n",
    "LR_score = accuracy_score(y_test, LR_predictions)\n",
    "NB_score = accuracy_score(y_test, NB_predictions)\n",
    "SVC_score = accuracy_score(y_test, SVC_predictions)\n",
    "\n",
    "# Comparison of scores\n",
    "print(\"Model: Decision Tree, Score: {0:0.5f}\".format(DTC_score))\n",
    "print(\"Model: Random Forest, Score: {0:0.5f}\".format(RFC_score))\n",
    "print(\"Model: Logistic Regression, Score: {0:0.5f}\".format(LR_score))\n",
    "print(\"Model: Naive Bayes, Score: {0:0.5f}\".format(NB_score))\n",
    "print(\"Model: Support Vector, Score: {0:0.5f}\".format(SVC_score))"
   ]
  },
  {
   "cell_type": "markdown",
   "id": "95c82345",
   "metadata": {},
   "source": [
    "The model with the most accurate predictions is the Support Vector Classifier, followed by the Logistic Regression model, and then the Decision Tree Classifier. <br> \n",
    "The highest accuracy score attained is 92.96% which is relatively good. "
   ]
  }
 ],
 "metadata": {
  "kernelspec": {
   "display_name": "Python 3",
   "language": "python",
   "name": "python3"
  },
  "language_info": {
   "codemirror_mode": {
    "name": "ipython",
    "version": 3
   },
   "file_extension": ".py",
   "mimetype": "text/x-python",
   "name": "python",
   "nbconvert_exporter": "python",
   "pygments_lexer": "ipython3",
   "version": "3.8.8"
  }
 },
 "nbformat": 4,
 "nbformat_minor": 5
}
